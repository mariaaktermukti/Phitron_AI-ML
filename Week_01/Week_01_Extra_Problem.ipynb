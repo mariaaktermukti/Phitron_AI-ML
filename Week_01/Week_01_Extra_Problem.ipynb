{
 "cells": [
  {
   "cell_type": "markdown",
   "id": "962b0042",
   "metadata": {},
   "source": [
    "link : https://codeforces.com/group/MWSDmqGsZm/contest/219774/problem/E"
   ]
  },
  {
   "cell_type": "code",
   "execution_count": null,
   "id": "fafc95e5",
   "metadata": {},
   "outputs": [
    {
     "name": "stdout",
     "output_type": "stream",
     "text": [
      "1 1\n"
     ]
    }
   ],
   "source": [
    "n = int(input())\n",
    "a = input().split() \n",
    "a = [int(x) for x in a]  \n",
    "\n",
    "lowest = a[0]\n",
    "position = 1  \n",
    "\n",
    "for i in range(1, n):\n",
    "    if a[i] < lowest:\n",
    "        lowest = a[i]\n",
    "        position = i + 1  \n",
    "\n",
    "print(lowest, position)\n"
   ]
  },
  {
   "cell_type": "markdown",
   "id": "c67bb057",
   "metadata": {},
   "source": [
    "link : https://codeforces.com/group/MWSDmqGsZm/contest/219774/problem/M"
   ]
  },
  {
   "cell_type": "code",
   "execution_count": 7,
   "id": "6dee5d46",
   "metadata": {},
   "outputs": [
    {
     "name": "stdout",
     "output_type": "stream",
     "text": [
      "4 10 3 1 8\n"
     ]
    }
   ],
   "source": [
    "n = int(input())\n",
    "a = [int(x) for x in input().split()]  \n",
    "\n",
    "min_value = a[0]\n",
    "max_value = a[0]\n",
    "min_index = 0\n",
    "max_index = 0\n",
    "\n",
    "for i in range(1, n):\n",
    "    if a[i] < min_value:\n",
    "        min_value = a[i]\n",
    "        min_index = i\n",
    "    if a[i] > max_value:\n",
    "        max_value = a[i]\n",
    "        max_index = i\n",
    "\n",
    "a[min_index], a[max_index] = a[max_index], a[min_index]\n",
    "\n",
    "for i in range(n):\n",
    "    if i != n-1:\n",
    "        print(a[i], end=' ')\n",
    "    else:\n",
    "        print(a[i])\n"
   ]
  },
  {
   "cell_type": "markdown",
   "id": "28e22320",
   "metadata": {},
   "source": [
    "link : https://codeforces.com/group/MWSDmqGsZm/contest/219774/problem/K"
   ]
  },
  {
   "cell_type": "code",
   "execution_count": 9,
   "id": "6469b504",
   "metadata": {},
   "outputs": [
    {
     "name": "stdout",
     "output_type": "stream",
     "text": [
      "12\n"
     ]
    }
   ],
   "source": [
    "n = int(input())\n",
    "digits = input()  \n",
    "\n",
    "sum = 0\n",
    "for i in digits:\n",
    "    sum += int(i) \n",
    "    \n",
    "print(sum)\n"
   ]
  },
  {
   "cell_type": "markdown",
   "id": "089855c0",
   "metadata": {},
   "source": [
    "link: https://codeforces.com/group/MWSDmqGsZm/contest/219856/problem/H"
   ]
  },
  {
   "cell_type": "code",
   "execution_count": 11,
   "id": "144d74d8",
   "metadata": {},
   "outputs": [
    {
     "name": "stdout",
     "output_type": "stream",
     "text": [
      "Bad\n",
      "Good\n"
     ]
    }
   ],
   "source": [
    "t = int(input())\n",
    "\n",
    "for _ in range(t):\n",
    "    S = input()\n",
    "    print(\"Good\" if \"010\" in S or \"101\" in S else \"Bad\")\n"
   ]
  },
  {
   "cell_type": "markdown",
   "id": "bc2b9702",
   "metadata": {},
   "source": [
    "link : https://codeforces.com/group/MWSDmqGsZm/contest/219856/problem/V"
   ]
  },
  {
   "cell_type": "code",
   "execution_count": 13,
   "id": "324e5553",
   "metadata": {},
   "outputs": [
    {
     "name": "stdout",
     "output_type": "stream",
     "text": [
      "BRITISH GHANA\n"
     ]
    }
   ],
   "source": [
    "s = input()\n",
    "\n",
    "result = s.replace(\"EGYPT\", \" \")\n",
    "print(result)\n"
   ]
  }
 ],
 "metadata": {
  "kernelspec": {
   "display_name": "Python 3",
   "language": "python",
   "name": "python3"
  },
  "language_info": {
   "codemirror_mode": {
    "name": "ipython",
    "version": 3
   },
   "file_extension": ".py",
   "mimetype": "text/x-python",
   "name": "python",
   "nbconvert_exporter": "python",
   "pygments_lexer": "ipython3",
   "version": "3.13.7"
  }
 },
 "nbformat": 4,
 "nbformat_minor": 5
}
