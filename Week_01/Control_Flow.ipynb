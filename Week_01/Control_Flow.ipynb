{
 "cells": [
  {
   "cell_type": "markdown",
   "id": "09ebd4da",
   "metadata": {},
   "source": [
    "Control Statement in Python"
   ]
  },
  {
   "cell_type": "code",
   "execution_count": null,
   "id": "e2ecbfed",
   "metadata": {},
   "outputs": [
    {
     "name": "stdout",
     "output_type": "stream",
     "text": [
      "Raincoat is necessary.\n",
      "Sandal is necessary.\n"
     ]
    }
   ],
   "source": [
    "raining= False\n",
    "muddy=True\n",
    "if raining==True:\n",
    "    print(\"Raincoat is necessary.\")\n",
    "    if muddy==True:\n",
    "        print(\"Sandal is necessary.\")\n",
    "    else:\n",
    "        print(\"Bring Sneakers.\")\n",
    "else:\n",
    "    print(\"Go without raincoat\")\n",
    "    print(\"It is a sunny day!\")    \n"
   ]
  },
  {
   "cell_type": "code",
   "execution_count": null,
   "id": "bcac646b",
   "metadata": {},
   "outputs": [
    {
     "name": "stdout",
     "output_type": "stream",
     "text": [
      "Taka save korbo.\n"
     ]
    }
   ],
   "source": [
    "taka=300\n",
    "#500 er ebshi hole ghurte jabo, \n",
    "# 400 er beshi hole bashay kichu order krbo, \n",
    "# 300 er beshi hole food court e jabo\n",
    "\n",
    "if taka>500:\n",
    "    print(\"Ghurte jabo.\")\n",
    "elif taka> 400:\n",
    "    print(\"Bashay order krbo.\") \n",
    "elif taka> 300:\n",
    "    print(\"food court e jabo.\") \n",
    "else:\n",
    "    print(\"Taka save korbo.\")      \n",
    "\n"
   ]
  },
  {
   "cell_type": "code",
   "execution_count": 11,
   "id": "8350bc1c",
   "metadata": {},
   "outputs": [
    {
     "name": "stdout",
     "output_type": "stream",
     "text": [
      "Taka save korbo.\n"
     ]
    }
   ],
   "source": [
    "taka=1000\n",
    "raining=True\n",
    "if taka>500 and raining==False:\n",
    "    print(\"Ghurte jabo.\")\n",
    "else:   \n",
    "    print(\"Taka save korbo.\") "
   ]
  },
  {
   "cell_type": "markdown",
   "id": "e11b2758",
   "metadata": {},
   "source": [
    "Loop in Python"
   ]
  },
  {
   "cell_type": "code",
   "execution_count": 13,
   "id": "2d15da14",
   "metadata": {},
   "outputs": [
    {
     "name": "stdout",
     "output_type": "stream",
     "text": [
      "0 Hello World.\n",
      "1 Hello World.\n",
      "2 Hello World.\n",
      "3 Hello World.\n",
      "4 Hello World.\n",
      "5 Hello World.\n",
      "6 Hello World.\n",
      "7 Hello World.\n",
      "8 Hello World.\n",
      "9 Hello World.\n"
     ]
    }
   ],
   "source": [
    "for i in range(10):\n",
    "    print(i, \"Hello World.\")"
   ]
  },
  {
   "cell_type": "code",
   "execution_count": null,
   "id": "396093d5",
   "metadata": {},
   "outputs": [
    {
     "name": "stdout",
     "output_type": "stream",
     "text": [
      "1 1\n",
      "1 2\n",
      "1 3\n",
      "1 4\n",
      "2 1\n",
      "2 2\n",
      "2 3\n",
      "2 4\n",
      "3 1\n",
      "3 2\n",
      "3 3\n",
      "3 4\n",
      "4 1\n",
      "4 2\n",
      "4 3\n",
      "4 4\n",
      "5 1\n",
      "5 2\n",
      "5 3\n",
      "5 4\n",
      "6 1\n",
      "6 2\n",
      "6 3\n",
      "6 4\n",
      "7 1\n",
      "7 2\n",
      "7 3\n",
      "7 4\n",
      "8 1\n",
      "8 2\n",
      "8 3\n",
      "8 4\n",
      "9 1\n",
      "9 2\n",
      "9 3\n",
      "9 4\n"
     ]
    }
   ],
   "source": [
    "#nested for loop\n",
    "for i in range(1,10):\n",
    "    for j in range(1,5):\n",
    "        print(i,j)"
   ]
  },
  {
   "cell_type": "markdown",
   "id": "d0924fb0",
   "metadata": {},
   "source": [
    "While Loop"
   ]
  },
  {
   "cell_type": "code",
   "execution_count": 19,
   "id": "6bd5ba89",
   "metadata": {},
   "outputs": [
    {
     "name": "stdout",
     "output_type": "stream",
     "text": [
      "10\n"
     ]
    }
   ],
   "source": [
    "count=10\n",
    "while count < 10:\n",
    "    print(count,\"Hello World.\")\n",
    "    count= count+1\n",
    "    \n",
    "print(count)    "
   ]
  },
  {
   "cell_type": "markdown",
   "id": "03869631",
   "metadata": {},
   "source": [
    "Break and Continue Statements"
   ]
  },
  {
   "cell_type": "code",
   "execution_count": 22,
   "id": "98c86694",
   "metadata": {},
   "outputs": [
    {
     "name": "stdout",
     "output_type": "stream",
     "text": [
      "1 is added to the sum.\n",
      "3 is added to the sum.\n",
      "5 is added to the sum.\n",
      "7 is added to the sum.\n",
      "9 is added to the sum.\n",
      "25\n"
     ]
    }
   ],
   "source": [
    "sum=0\n",
    "for i in range(1,11):\n",
    "    \n",
    "    if i%2== 0: \n",
    "        continue\n",
    "    sum+=i\n",
    "    print(i, \"is added to the sum.\")\n",
    "print(sum)    "
   ]
  },
  {
   "cell_type": "code",
   "execution_count": 27,
   "id": "b2320055",
   "metadata": {},
   "outputs": [
    {
     "name": "stdout",
     "output_type": "stream",
     "text": [
      "96\n",
      "97\n",
      "98\n",
      "99\n",
      "100\n"
     ]
    }
   ],
   "source": [
    "accuracy=95\n",
    "for i in range(20):\n",
    "    accuracy+=1\n",
    "    print(accuracy)\n",
    "    if accuracy==100:\n",
    "        break\n"
   ]
  },
  {
   "cell_type": "markdown",
   "id": "e0e1df7d",
   "metadata": {},
   "source": [
    " codeforces link: https://codeforces.com/group/MWSDmqGsZm/contest/219158/problem/K"
   ]
  },
  {
   "cell_type": "code",
   "execution_count": 35,
   "id": "534c3cb8",
   "metadata": {},
   "outputs": [
    {
     "name": "stdout",
     "output_type": "stream",
     "text": [
      "-3 -1\n"
     ]
    }
   ],
   "source": [
    "inp = input()\n",
    "numbers = inp.split()\n",
    "\n",
    "x = int(numbers[0])\n",
    "y = int(numbers[1])\n",
    "z = int(numbers[2])\n",
    "\n",
    "min_val = x\n",
    "max_val = x\n",
    "\n",
    "# find minimum\n",
    "if min_val > y:\n",
    "    min_val = y\n",
    "if min_val > z:\n",
    "    min_val = z    \n",
    "\n",
    "# find maximum\n",
    "if y > max_val:\n",
    "    max_val = y\n",
    "if z > max_val:\n",
    "    max_val = z   \n",
    "\n",
    "print(min_val, max_val)\n"
   ]
  },
  {
   "cell_type": "markdown",
   "id": "870f982f",
   "metadata": {},
   "source": [
    "C. Even, Odd, Positive and Negative : https://codeforces.com/group/MWSDmqGsZm/contest/219432/problem/C"
   ]
  },
  {
   "cell_type": "code",
   "execution_count": 3,
   "id": "0938c465",
   "metadata": {},
   "outputs": [
    {
     "name": "stdout",
     "output_type": "stream",
     "text": [
      "Even: 3\n",
      "Odd: 2\n",
      "Positive: 1\n",
      "Negative: 3\n"
     ]
    }
   ],
   "source": [
    "n = int(input()) \n",
    "\n",
    "inp = input()\n",
    "\n",
    "numbers= inp.split()\n",
    "\n",
    "positive =0 ; negative =0 ; even =0 ; odd =0 \n",
    "\n",
    "\n",
    "for i in range(n):\n",
    "    x = int(numbers[i])\n",
    "    \n",
    "    if x > 0 :\n",
    "        positive+=1 \n",
    "    elif x < 0 :\n",
    "        negative+=1 \n",
    "    \n",
    "    \n",
    "    if x % 2 !=0 :\n",
    "        odd+=1 \n",
    "    else:\n",
    "        even+=1 \n",
    "\n",
    "\n",
    "print(\"Even:\",even)\n",
    "print(\"Odd:\",odd)\n",
    "print(\"Positive:\",positive)\n",
    "print(\"Negative:\",negative)"
   ]
  },
  {
   "cell_type": "markdown",
   "id": "716d0ad2",
   "metadata": {},
   "source": [
    "Digits -> link: https://codeforces.com/group/MWSDmqGsZm/contest/219432/problem/Q"
   ]
  },
  {
   "cell_type": "code",
   "execution_count": null,
   "id": "450bf021",
   "metadata": {},
   "outputs": [
    {
     "name": "stdout",
     "output_type": "stream",
     "text": [
      "3 2 1 \n"
     ]
    }
   ],
   "source": [
    "t = int(input())\n",
    "\n",
    "for i in range(t):\n",
    "    number = int(input())\n",
    "    if number ==0 :\n",
    "        print(0)\n",
    "        continue\n",
    "    while number > 0 :\n",
    "        print(number%10, end=\" \")\n",
    "        number//=10\n",
    "    print()"
   ]
  }
 ],
 "metadata": {
  "kernelspec": {
   "display_name": "Python 3",
   "language": "python",
   "name": "python3"
  },
  "language_info": {
   "codemirror_mode": {
    "name": "ipython",
    "version": 3
   },
   "file_extension": ".py",
   "mimetype": "text/x-python",
   "name": "python",
   "nbconvert_exporter": "python",
   "pygments_lexer": "ipython3",
   "version": "3.13.7"
  }
 },
 "nbformat": 4,
 "nbformat_minor": 5
}
