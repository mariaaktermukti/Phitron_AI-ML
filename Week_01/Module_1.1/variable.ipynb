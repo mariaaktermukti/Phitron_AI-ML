{
 "cells": [
  {
   "cell_type": "code",
   "execution_count": 3,
   "id": "d98f34aa",
   "metadata": {},
   "outputs": [
    {
     "name": "stdout",
     "output_type": "stream",
     "text": [
      "Hello World\n",
      "Mukti\n",
      "123456\n"
     ]
    }
   ],
   "source": [
    "print(\"Hello World\")\n",
    "name=\"Mukti\"\n",
    "print(name)\n",
    "number=123456\n",
    "print(number)"
   ]
  },
  {
   "cell_type": "code",
   "execution_count": 4,
   "id": "93af2d4d",
   "metadata": {},
   "outputs": [
    {
     "name": "stdout",
     "output_type": "stream",
     "text": [
      "<class 'int'> <class 'float'> <class 'str'> <class 'bool'>\n",
      "<class 'float'>\n"
     ]
    }
   ],
   "source": [
    "age=22\n",
    "weight= 50.3\n",
    "name=\"Mukti\"\n",
    "is_pass=True\n",
    "\n",
    "print(type(age), type(weight), type(name), type(is_pass))\n",
    "\n",
    "age=22.3\n",
    "print(type(age))"
   ]
  },
  {
   "cell_type": "code",
   "execution_count": 7,
   "id": "de78c410",
   "metadata": {},
   "outputs": [
    {
     "name": "stdout",
     "output_type": "stream",
     "text": [
      "mukti\n"
     ]
    }
   ],
   "source": [
    "name = input(\"What is your name? \")\n",
    "print(name)"
   ]
  },
  {
   "cell_type": "code",
   "execution_count": 8,
   "id": "5df4a162",
   "metadata": {},
   "outputs": [
    {
     "name": "stdout",
     "output_type": "stream",
     "text": [
      "20\n",
      "<class 'str'>\n"
     ]
    }
   ],
   "source": [
    "age= input(\"Age is : \")\n",
    "print(age)\n",
    "print(type(age))"
   ]
  },
  {
   "cell_type": "code",
   "execution_count": 9,
   "id": "7b67b69b",
   "metadata": {},
   "outputs": [
    {
     "name": "stdout",
     "output_type": "stream",
     "text": [
      "23 <class 'int'>\n"
     ]
    }
   ],
   "source": [
    "age= input(\"Age is : \") #take as string\n",
    "age=int(age) # typecast it from string to integer\n",
    "print(age , type(age))"
   ]
  },
  {
   "cell_type": "code",
   "execution_count": 10,
   "id": "65b7b15a",
   "metadata": {},
   "outputs": [
    {
     "name": "stdout",
     "output_type": "stream",
     "text": [
      "5.6 <class 'str'>\n"
     ]
    }
   ],
   "source": [
    "height=input(\"Height is : \")\n",
    "print(height , type(height))"
   ]
  },
  {
   "cell_type": "code",
   "execution_count": 14,
   "id": "baa5a328",
   "metadata": {},
   "outputs": [
    {
     "name": "stdout",
     "output_type": "stream",
     "text": [
      "20.3 <class 'float'>\n",
      "23.7\n"
     ]
    }
   ],
   "source": [
    "height=float(input(\"Height is : \"))\n",
    "print(height , type(height))\n",
    "\n",
    "height= height+3.4\n",
    "print(height)"
   ]
  }
 ],
 "metadata": {
  "kernelspec": {
   "display_name": "Python 3",
   "language": "python",
   "name": "python3"
  },
  "language_info": {
   "codemirror_mode": {
    "name": "ipython",
    "version": 3
   },
   "file_extension": ".py",
   "mimetype": "text/x-python",
   "name": "python",
   "nbconvert_exporter": "python",
   "pygments_lexer": "ipython3",
   "version": "3.13.7"
  }
 },
 "nbformat": 4,
 "nbformat_minor": 5
}
