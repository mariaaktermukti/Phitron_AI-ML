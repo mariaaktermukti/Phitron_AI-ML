{
 "cells": [
  {
   "cell_type": "markdown",
   "id": "24f8a1d9",
   "metadata": {},
   "source": [
    "Smart Light Pilot: https://www.hackerrank.com/contests/ai-ml-module-4-practice-day-1/challenges/b1-smart-light-pilot-threshold"
   ]
  },
  {
   "cell_type": "code",
   "execution_count": 2,
   "id": "c93476b4",
   "metadata": {},
   "outputs": [
    {
     "name": "stdout",
     "output_type": "stream",
     "text": [
      "ON\n"
     ]
    }
   ],
   "source": [
    "brightness_inp= input().split()\n",
    "brightness= float(brightness_inp[0])\n",
    "threshold= float(brightness_inp[1])\n",
    "\n",
    "if brightness >= threshold:\n",
    "    print(\"ON\")\n",
    "else:\n",
    "    print(\"OFF\")    \n",
    "    \n"
   ]
  },
  {
   "cell_type": "markdown",
   "id": "7fd6870a",
   "metadata": {},
   "source": [
    "Sensor Calibrator — Min-Max Scaling : link -> https://www.hackerrank.com/contests/ai-ml-module-4-practice-day-1/challenges/b3-sensor-calibrator-min-max-scaling"
   ]
  },
  {
   "cell_type": "code",
   "execution_count": 4,
   "id": "13f02345",
   "metadata": {},
   "outputs": [
    {
     "name": "stdout",
     "output_type": "stream",
     "text": [
      "0.00\n"
     ]
    }
   ],
   "source": [
    "x,min_v,max_v= input().split()\n",
    "\n",
    "x=float(x)\n",
    "min_v= float(min_v)\n",
    "max_v=float(max_v)\n",
    "norm=(x - min_v) / (max_v - min_v)\n",
    "print(f\"{norm:.2f}\")"
   ]
  },
  {
   "cell_type": "markdown",
   "id": "05ba1907",
   "metadata": {},
   "source": [
    "Mini Loss Tracker: link -> https://www.hackerrank.com/contests/ai-ml-module-4-practice-day-1/challenges/b4-mini-loss-tracker-average-monitor"
   ]
  },
  {
   "cell_type": "code",
   "execution_count": 7,
   "id": "147111a1",
   "metadata": {},
   "outputs": [
    {
     "name": "stdout",
     "output_type": "stream",
     "text": [
      "RETRY\n"
     ]
    }
   ],
   "source": [
    "n=int(input())\n",
    "target=float(input())\n",
    "total_loss=0.0\n",
    "\n",
    "for i in range(n):\n",
    "    loss=float(input())\n",
    "    total_loss=total_loss+loss\n",
    "avg_loss= total_loss/n\n",
    "\n",
    "if avg_loss<=target:\n",
    "    print(\"PASS\")\n",
    "else:\n",
    "    print(\"RETRY\")        \n",
    "    "
   ]
  },
  {
   "cell_type": "markdown",
   "id": "b63b2150",
   "metadata": {},
   "source": [
    "Majority Vote Gate : link -> https://www.hackerrank.com/contests/ai-ml-module-4-practice-day-1/challenges/b5-majority-vote-gate-simple-ensemble"
   ]
  },
  {
   "cell_type": "code",
   "execution_count": 9,
   "id": "0ca44408",
   "metadata": {},
   "outputs": [
    {
     "name": "stdout",
     "output_type": "stream",
     "text": [
      "REJECT\n"
     ]
    }
   ],
   "source": [
    "n=int(input())\n",
    "count_yes=0\n",
    "\n",
    "for i in range(n):\n",
    "    vote=input()\n",
    "    if vote==\"YES\":\n",
    "        count_yes+=1\n",
    "        \n",
    "count_no= n-count_yes\n",
    "\n",
    "if count_yes>=count_no:\n",
    "    print(\"ACCEPT\")\n",
    "else:\n",
    "    print(\"REJECT\")        "
   ]
  },
  {
   "cell_type": "markdown",
   "id": "a3745cca",
   "metadata": {},
   "source": [
    "AI Mood Detector: https://www.hackerrank.com/contests/ai-ml-module-4-practice-day-1/challenges/ai-mood-detector"
   ]
  },
  {
   "cell_type": "code",
   "execution_count": 12,
   "id": "9eaeaf02",
   "metadata": {},
   "outputs": [
    {
     "name": "stdout",
     "output_type": "stream",
     "text": [
      "Neutral Mood\n"
     ]
    }
   ],
   "source": [
    "msg=input()\n",
    "\n",
    "if \"happy\" in msg or \"joy\" in msg or \"smile\" in msg:\n",
    "    print(\"Happy Mood\")\n",
    "elif \"sad\" in msg or \"cry\" in msg or \"angry\" in msg:\n",
    "    print(\"Sad Mood\")\n",
    "else:\n",
    "    print(\"Neutral Mood\")        "
   ]
  },
  {
   "cell_type": "markdown",
   "id": "1ba005de",
   "metadata": {},
   "source": [
    "AI Brightness Analyzer: link -> https://www.hackerrank.com/contests/ai-ml-module-4-practice-day-1/challenges/p2-a2-ai-brightness-analyzer"
   ]
  },
  {
   "cell_type": "code",
   "execution_count": 15,
   "id": "0232697b",
   "metadata": {},
   "outputs": [
    {
     "name": "stdout",
     "output_type": "stream",
     "text": [
      "Bright Image\n"
     ]
    }
   ],
   "source": [
    "pixel=input().split()\n",
    "\n",
    "sum=0\n",
    "count=0\n",
    "\n",
    "for i in pixel:\n",
    "    sum= sum+int(i)\n",
    "    count= count +1\n",
    "    \n",
    "avg= sum/count\n",
    "\n",
    "if avg<85:\n",
    "    print(\"Dark Image\")\n",
    "elif avg<=170:\n",
    "    print(\"Normal Image\") \n",
    "else:\n",
    "    print(\"Bright Image\")           "
   ]
  },
  {
   "cell_type": "markdown",
   "id": "7e225799",
   "metadata": {},
   "source": [
    "AI Bias Detector : link -> https://www.hackerrank.com/contests/ai-ml-module-4-practice-day-1/challenges/p2-a3-ai-bias-detector"
   ]
  },
  {
   "cell_type": "code",
   "execution_count": 18,
   "id": "a49aed46",
   "metadata": {},
   "outputs": [
    {
     "name": "stdout",
     "output_type": "stream",
     "text": [
      "Fair Model\n"
     ]
    }
   ],
   "source": [
    "predict= input().split()\n",
    "\n",
    "count_A=0;count_B=0;count_C=0;total=0\n",
    "\n",
    "for i in predict:\n",
    "    total+=1\n",
    "    \n",
    "    if i==\"A\":\n",
    "        count_A+=1\n",
    "    else:\n",
    "        count_B+=1\n",
    "\n",
    "if count_A/ total>0.7 or count_B/total>0.7:\n",
    "    print(\"Biased Model\") \n",
    "else:\n",
    "    print(\"Fair Model\")           \n",
    "           "
   ]
  },
  {
   "cell_type": "markdown",
   "id": "9ba17766",
   "metadata": {},
   "source": [
    "AI Keyword Counter: link-> https://www.hackerrank.com/contests/ai-ml-module-4-practice-day-1/challenges/p2-a4-ai-keyword-counter"
   ]
  },
  {
   "cell_type": "code",
   "execution_count": 20,
   "id": "cc010ba9",
   "metadata": {},
   "outputs": [
    {
     "name": "stdout",
     "output_type": "stream",
     "text": [
      "Not AI Related\n"
     ]
    }
   ],
   "source": [
    "msg=input()\n",
    "\n",
    "keywords=[\"ai\",\"data\",\"model\", \"learn\", \"train\",\"neural\"]\n",
    "count=0\n",
    "\n",
    "for i in keywords:\n",
    "    if i in msg:\n",
    "        count+=1\n",
    "\n",
    "if count>=2:\n",
    "    print(\"AI Detected\")\n",
    "else:\n",
    "    print(\"Not AI Related\")            "
   ]
  }
 ],
 "metadata": {
  "kernelspec": {
   "display_name": "Python 3",
   "language": "python",
   "name": "python3"
  },
  "language_info": {
   "codemirror_mode": {
    "name": "ipython",
    "version": 3
   },
   "file_extension": ".py",
   "mimetype": "text/x-python",
   "name": "python",
   "nbconvert_exporter": "python",
   "pygments_lexer": "ipython3",
   "version": "3.13.7"
  }
 },
 "nbformat": 4,
 "nbformat_minor": 5
}
