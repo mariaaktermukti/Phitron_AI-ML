{
  "nbformat": 4,
  "nbformat_minor": 0,
  "metadata": {
    "colab": {
      "provenance": []
    },
    "kernelspec": {
      "name": "python3",
      "display_name": "Python 3"
    },
    "language_info": {
      "name": "python"
    }
  },
  "cells": [
    {
      "cell_type": "markdown",
      "source": [
        "Problem 1: Common Friends (Set Operations)\n",
        "Problem:\n",
        " Given two sets of friends from two people, find the mutual friends, unique friends of each, and the total number of unique friends.\n",
        "Example Input:\n",
        "a_friends = {\"Rahim\", \"Karim\", \"Sakib\", \"Jamal\"}\n",
        "b_friends = {\"Sakib\", \"Jamal\", \"Rafiq\", \"Nadim\"}\n",
        "\n",
        "Expected Output:\n",
        "Mutual friends: {'Sakib', 'Jamal'}\n",
        "Unique to A: {'Rahim', 'Karim'}\n",
        "Unique to B: {'Rafiq', 'Nadim'}\n",
        "Total unique friends: 6\n"
      ],
      "metadata": {
        "id": "JSWqYOOVyulM"
      }
    },
    {
      "cell_type": "code",
      "source": [
        "# Given sets\n",
        "a_friends = {\"Rahim\", \"Karim\", \"Sakib\", \"Jamal\"}\n",
        "b_friends = {\"Sakib\", \"Jamal\", \"Rafiq\", \"Nadim\"}\n",
        "\n",
        "#Mutual friends\n",
        "mutual = a_friends & b_friends\n",
        "\n",
        "#Unique to A\n",
        "unique_a = a_friends - b_friends\n",
        "\n",
        "#Unique to B\n",
        "unique_b = b_friends - a_friends\n",
        "\n",
        "#Total unique friends\n",
        "total_unique = a_friends | b_friends\n",
        "\n",
        "# Output\n",
        "print(\"Mutual friends:\", mutual)\n",
        "print(\"Unique to A:\", unique_a)\n",
        "print(\"Unique to B:\", unique_b)\n",
        "print(\"Total unique friends:\", len(total_unique))\n"
      ],
      "metadata": {
        "colab": {
          "base_uri": "https://localhost:8080/"
        },
        "id": "BxKq5yWlyygE",
        "outputId": "3b8704c0-1217-4df5-8ca2-493a1e1f5ad7"
      },
      "execution_count": 1,
      "outputs": [
        {
          "output_type": "stream",
          "name": "stdout",
          "text": [
            "Mutual friends: {'Jamal', 'Sakib'}\n",
            "Unique to A: {'Rahim', 'Karim'}\n",
            "Unique to B: {'Rafiq', 'Nadim'}\n",
            "Total unique friends: 6\n"
          ]
        }
      ]
    },
    {
      "cell_type": "markdown",
      "source": [
        "Problem 2: Sort Students by Marks (Tuple + Dictionary)\n",
        "Problem:\n",
        " You are given a list of tuples — each containing a student’s name and mark.\n",
        " Sort them in descending order of marks and print the top 3 scorers.\n",
        "Example Input:\n",
        "students = [(\"Rafi\", 89), (\"Sumi\", 95), (\"Hasan\", 90), (\"Nila\", 75), (\"Anik\", 98)]\n",
        "\n",
        "Expected Output:\n",
        "Top 3 students:\n",
        "Anik - 98\n",
        "Sumi - 95\n",
        "Hasan - 90\n"
      ],
      "metadata": {
        "id": "2PfXi3XtzYio"
      }
    },
    {
      "cell_type": "code",
      "source": [
        "students = [(\"Rafi\", 89), (\"Sumi\", 95), (\"Hasan\", 90), (\"Nila\", 75), (\"Anik\", 98)]\n",
        "\n",
        "sorted_students = sorted(students, key=lambda x: x[1], reverse=True)\n",
        "\n",
        "print(\"Top 3 students:\")\n",
        "for student in sorted_students[:3]:\n",
        "    print(f\"{student[0]} - {student[1]}\")\n"
      ],
      "metadata": {
        "colab": {
          "base_uri": "https://localhost:8080/"
        },
        "id": "ZS8RRxO7zaC9",
        "outputId": "5f26f653-0b88-464b-fce4-3bb0df4bb422"
      },
      "execution_count": 2,
      "outputs": [
        {
          "output_type": "stream",
          "name": "stdout",
          "text": [
            "Top 3 students:\n",
            "Anik - 98\n",
            "Sumi - 95\n",
            "Hasan - 90\n"
          ]
        }
      ]
    },
    {
      "cell_type": "markdown",
      "source": [
        "Problem 3: Word Length Filter (Lambda + Filter)\n",
        "Problem:\n",
        " Given a list of words, use filter() and lambda to return only words whose length is greater than 4.\n",
        " Example Input:\n",
        "words = [\"sun\", \"planet\", \"moon\", \"star\", \"universe\"]\n",
        "\n",
        "Expected Output:\n",
        "['planet', 'universe']\n"
      ],
      "metadata": {
        "id": "Syi-SJSDzlHt"
      }
    },
    {
      "cell_type": "code",
      "source": [
        "words = [\"sun\", \"planet\", \"moon\", \"star\", \"universe\"]\n",
        "\n",
        "long_words = list(filter(lambda word: len(word) > 4, words))\n",
        "\n",
        "print(long_words)\n"
      ],
      "metadata": {
        "colab": {
          "base_uri": "https://localhost:8080/"
        },
        "id": "He-b3wSkzpC1",
        "outputId": "1e6cae0d-e0b5-4ee6-95db-b6e46a909a99"
      },
      "execution_count": 4,
      "outputs": [
        {
          "output_type": "stream",
          "name": "stdout",
          "text": [
            "['planet', 'universe']\n"
          ]
        }
      ]
    },
    {
      "cell_type": "markdown",
      "source": [
        "Problem 4: Square of Even Numbers (Map + Filter + Lambda)\n",
        "Problem:\n",
        " Write a one-line Python expression using map(), filter(), and lambda that takes a list of integers and returns the squares of even numbers only.\n",
        "Example Input:\n",
        "nums = [1, 2, 3, 4, 5, 6]\n",
        "\n",
        "Expected Output:\n",
        "[4, 16, 36]\n"
      ],
      "metadata": {
        "id": "DX1ZTkc_z6qs"
      }
    },
    {
      "cell_type": "code",
      "source": [
        "nums = [1, 2, 3, 4, 5, 6]\n",
        "\n",
        "squares_of_even = list(map(lambda x: x**2, filter(lambda x: x % 2 == 0, nums)))\n",
        "\n",
        "print(squares_of_even)\n"
      ],
      "metadata": {
        "colab": {
          "base_uri": "https://localhost:8080/"
        },
        "id": "v8K31Kraz72l",
        "outputId": "037f79ae-d4c3-418f-c53e-1f9090a8b6bb"
      },
      "execution_count": 5,
      "outputs": [
        {
          "output_type": "stream",
          "name": "stdout",
          "text": [
            "[4, 16, 36]\n"
          ]
        }
      ]
    },
    {
      "cell_type": "markdown",
      "source": [
        "Problem 5: Write and Read a File\n",
        "Problem:\n",
        " Write a Python program to:\n",
        "Create a text file named data.txt\n",
        "\n",
        "\n",
        "Write “Learning Python is fun!” into it.\n",
        "\n",
        "\n",
        "Read the file and print its content.\n",
        "\n",
        "\n"
      ],
      "metadata": {
        "id": "f2UG8qQY0ABs"
      }
    },
    {
      "cell_type": "code",
      "source": [
        "with open(\"data.txt\", \"w\") as file:\n",
        "    file.write(\"Learning Python is fun!\")\n",
        "\n",
        "with open(\"data.txt\", \"r\") as file:\n",
        "    content = file.read()\n",
        "\n",
        "print(content)\n"
      ],
      "metadata": {
        "colab": {
          "base_uri": "https://localhost:8080/"
        },
        "id": "ekUWnStp0DgV",
        "outputId": "7b028c20-9424-4722-bf35-75a00858ad31"
      },
      "execution_count": 6,
      "outputs": [
        {
          "output_type": "stream",
          "name": "stdout",
          "text": [
            "Learning Python is fun!\n"
          ]
        }
      ]
    },
    {
      "cell_type": "markdown",
      "source": [
        " Problem 6: Count Lines in a File\n",
        "Problem:\n",
        " Write a Python program to count how many lines are in a text file named story.txt.\n",
        " If the file does not exist, handle the exception and print an error message, otherwise read the text file ( test it with both conditions ). Print a message finally.\n"
      ],
      "metadata": {
        "id": "5Ro2p2uq0RDd"
      }
    },
    {
      "cell_type": "code",
      "source": [
        "try:\n",
        "    with open(\"story.txt\", \"r\") as file:\n",
        "        lines = file.readlines()\n",
        "        print(f\"The file has {len(lines)} lines.\")\n",
        "except FileNotFoundError:\n",
        "    print(\"Error: story.txt does not exist!\")\n",
        "finally:\n",
        "    print(\"File checking process completed.\")\n"
      ],
      "metadata": {
        "colab": {
          "base_uri": "https://localhost:8080/"
        },
        "id": "2cJLHQ9c0SOu",
        "outputId": "66af530e-4185-469c-96f7-435a0c08953c"
      },
      "execution_count": 8,
      "outputs": [
        {
          "output_type": "stream",
          "name": "stdout",
          "text": [
            "Error: story.txt does not exist!\n",
            "File checking process completed.\n"
          ]
        }
      ]
    }
  ]
}