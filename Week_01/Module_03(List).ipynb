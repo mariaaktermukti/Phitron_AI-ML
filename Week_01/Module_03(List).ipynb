{
 "cells": [
  {
   "cell_type": "code",
   "execution_count": 19,
   "id": "d4777dee-ac22-4573-9146-600181742e2b",
   "metadata": {},
   "outputs": [
    {
     "name": "stdout",
     "output_type": "stream",
     "text": [
      "<class 'list'>\n",
      "[10.3, 34.5, 13.8, 2.4, 4.667]\n",
      "<class 'list'>\n",
      "['apple', 'orange', 'lichi']\n",
      "<class 'str'>\n",
      "[10, 2.345, 'apple']\n"
     ]
    }
   ],
   "source": [
    "##declaration\n",
    "\n",
    "numbers=[10,20,30,40]\n",
    "print(type(numbers))\n",
    "\n",
    "\n",
    "float_numbers=[10.3,34.5,13.8,2.4,4.667]\n",
    "print(float_numbers)\n",
    "print(type(float_numbers))\n",
    "\n",
    "fruits=['apple', 'orange', 'lichi'] #string\n",
    "print(fruits)\n",
    "print(type(fruits[2]))\n",
    "\n",
    "mix=[10, 2.345, 'apple']\n",
    "print(mix)"
   ]
  },
  {
   "cell_type": "code",
   "execution_count": 8,
   "id": "fcd82e96-1ee6-4551-81b3-ff87ca8d0015",
   "metadata": {},
   "outputs": [
    {
     "name": "stdout",
     "output_type": "stream",
     "text": [
      "30\n",
      "90\n",
      "[10, 20, 90]\n"
     ]
    }
   ],
   "source": [
    "##access\n",
    "\n",
    "##List->mutable\n",
    "\n",
    "print(numbers[2])\n",
    "numbers[2]= 90\n",
    "print(numbers[2])\n",
    "\n",
    "new_list=numbers[0:3]\n",
    "print(new_list)"
   ]
  },
  {
   "cell_type": "code",
   "execution_count": 12,
   "id": "e20d77a4-556e-4fe6-a617-5af264ab1685",
   "metadata": {},
   "outputs": [
    {
     "name": "stdout",
     "output_type": "stream",
     "text": [
      "[45, 45, 45, 10, 20, 90, 40, 80, 80]\n",
      "[45, 45, 45, 45, 10, 20, 90, 40, 80, 80]\n",
      "[45, 45, 45, 45, 10, 20, 90, 40, 80]\n",
      "[45, 45, 45, 45, 20, 90, 40, 80]\n"
     ]
    }
   ],
   "source": [
    "##modification\n",
    "\n",
    "##adding a item\n",
    "\n",
    "numbers.append(80)\n",
    "print(numbers)\n",
    "numbers.insert(0,45)\n",
    "print(numbers)\n",
    "\n",
    "#deletion\n",
    "numbers.pop()\n",
    "print(numbers)\n",
    "\n",
    "numbers.remove(10)\n",
    "print(numbers)"
   ]
  },
  {
   "cell_type": "code",
   "execution_count": 24,
   "id": "e802d2eb-23ef-424f-8f32-4047141170f7",
   "metadata": {},
   "outputs": [
    {
     "name": "stdout",
     "output_type": "stream",
     "text": [
      "[10, 20, 30, 40]\n",
      "[40, 30, 20, 10]\n"
     ]
    }
   ],
   "source": [
    "numbers.sort()\n",
    "print(numbers)\n",
    "\n",
    "\n",
    "numbers.reverse()\n",
    "print(numbers)"
   ]
  },
  {
   "cell_type": "code",
   "execution_count": 22,
   "id": "35922fc2-bee5-47be-88fb-d27fc15702db",
   "metadata": {},
   "outputs": [
    {
     "name": "stdout",
     "output_type": "stream",
     "text": [
      "[40, 30, 20, 10]\n"
     ]
    }
   ],
   "source": [
    "numbers.sort(reverse=True)\n",
    "print(numbers)"
   ]
  },
  {
   "cell_type": "markdown",
   "id": "447891d3-c236-4c81-9d9b-7092ba2b1dd5",
   "metadata": {},
   "source": [
    "Stack"
   ]
  },
  {
   "cell_type": "code",
   "execution_count": 39,
   "id": "08378d4c-ea9d-458f-8129-055026bd1b42",
   "metadata": {},
   "outputs": [
    {
     "name": "stdout",
     "output_type": "stream",
     "text": [
      "[1, 2, 3, 4, 5]\n",
      "5\n",
      "4\n",
      "3\n",
      "top element : 2\n",
      "top element : 1\n"
     ]
    }
   ],
   "source": [
    "stack=[]\n",
    "##push\n",
    "stack.append(1)\n",
    "stack.append(2)\n",
    "stack.append(3)\n",
    "stack.append(4)\n",
    "stack.append(5)\n",
    "print(stack)\n",
    "\n",
    "\n",
    "#getting top elmement\n",
    "print(stack.pop())\n",
    "print(stack.pop())\n",
    "print(stack.pop())\n",
    "\n",
    "\n",
    "print(f\"top element : {stack[-1]}\")\n",
    "# removing the top element \n",
    "stack.pop()\n",
    "\n",
    "# top element \n",
    "print(f\"top element : {stack[-1]}\")"
   ]
  },
  {
   "cell_type": "markdown",
   "id": "96208e15-09f1-4956-9a73-3a5b3b891945",
   "metadata": {},
   "source": [
    "List and Queue"
   ]
  },
  {
   "cell_type": "code",
   "execution_count": 40,
   "id": "596dab6d-d27d-4c7d-84fc-3851273f7601",
   "metadata": {},
   "outputs": [
    {
     "name": "stdout",
     "output_type": "stream",
     "text": [
      "[1, 2, 3, 4, 5]\n",
      "1\n",
      "[1, 2, 3, 4]\n",
      "front e 1\n",
      "front e 2\n"
     ]
    }
   ],
   "source": [
    "queue=[]\n",
    "queue.append(1)\n",
    "queue.append(2)\n",
    "queue.append(3)\n",
    "queue.append(4)\n",
    "queue.append(5)\n",
    "\n",
    "print(queue)\n",
    "print(queue[0])\n",
    "\n",
    "queue.pop() ##delete last element\n",
    "print(queue)\n",
    "\n",
    "# accessing the front element \n",
    "\n",
    "print(f\"front e {queue[0]}\")\n",
    "\n",
    "queue.pop(0)\n",
    "\n",
    "print(f\"front e {queue[0]}\")\n"
   ]
  },
  {
   "cell_type": "markdown",
   "id": "3740e75b-ed7c-48a0-85ac-cbe936f9f6df",
   "metadata": {},
   "source": [
    "List comprehension"
   ]
  },
  {
   "cell_type": "code",
   "execution_count": 46,
   "id": "d7e67c0e-f04f-4871-9061-f99b10fde105",
   "metadata": {},
   "outputs": [
    {
     "name": "stdout",
     "output_type": "stream",
     "text": [
      "[2, 4, 6, 8, 10, 12, 14, 16, 18, 20, 22, 24, 26, 28, 30, 32, 34, 36, 38, 40, 42, 44, 46, 48, 50, 52, 54, 56, 58, 60, 62, 64, 66, 68, 70, 72, 74, 76, 78, 80, 82, 84, 86, 88, 90, 92, 94, 96, 98, 100]\n",
      "[0, 2, 4, 6, 8, 10, 12, 14, 16, 18]\n"
     ]
    }
   ],
   "source": [
    "even=[]\n",
    "#native\n",
    "# for i in range(100):\n",
    "#     if i %2 ==0:\n",
    "#         even.append(i)\n",
    "\n",
    "# print(even)\n",
    "\n",
    "\n",
    "random_list=[x for x in range(1,101) if x% 2==0]\n",
    "random_list2=[x*2 for x in range(10)]\n",
    "print(random_list)\n",
    "print(random_list2)"
   ]
  },
  {
   "cell_type": "code",
   "execution_count": 50,
   "id": "cf5bdab1-3471-4ee0-bb88-adf192da71cc",
   "metadata": {},
   "outputs": [
    {
     "name": "stdout",
     "output_type": "stream",
     "text": [
      "['apple', 'orange', 'lichi']\n"
     ]
    }
   ],
   "source": [
    "fruits=['APPLE' , 'ORANGE' , 'LICHI']\n",
    "\n",
    "# capitalize_fruits=[]\n",
    "\n",
    "# for fruit in fruits:\n",
    "#     capitalize_fruits.append(fruit.capitalize())\n",
    "#     capitalize_fruits.append(fruit.upper())\n",
    "# print(capitalize_fruits) \n",
    "\n",
    "\n",
    "upper_fruits=[fruit.lower() for fruit in fruits]\n",
    "print(upper_fruits)\n"
   ]
  },
  {
   "cell_type": "code",
   "execution_count": null,
   "id": "c8d9a865-b188-4b3a-93d3-de6c0373dbeb",
   "metadata": {},
   "outputs": [],
   "source": []
  }
 ],
 "metadata": {
  "kernelspec": {
   "display_name": "Python 3 (ipykernel)",
   "language": "python",
   "name": "python3"
  },
  "language_info": {
   "codemirror_mode": {
    "name": "ipython",
    "version": 3
   },
   "file_extension": ".py",
   "mimetype": "text/x-python",
   "name": "python",
   "nbconvert_exporter": "python",
   "pygments_lexer": "ipython3",
   "version": "3.13.5"
  }
 },
 "nbformat": 4,
 "nbformat_minor": 5
}
