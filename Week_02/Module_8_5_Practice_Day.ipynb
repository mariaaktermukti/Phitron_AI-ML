{
  "nbformat": 4,
  "nbformat_minor": 0,
  "metadata": {
    "colab": {
      "provenance": []
    },
    "kernelspec": {
      "name": "python3",
      "display_name": "Python 3"
    },
    "language_info": {
      "name": "python"
    }
  },
  "cells": [
    {
      "cell_type": "code",
      "execution_count": 7,
      "metadata": {
        "id": "769wErsHzMX1"
      },
      "outputs": [],
      "source": [
        "# Base class\n",
        "class Vehicle:\n",
        "    def __init__(self, v_type, name, speed):\n",
        "        self._type = v_type\n",
        "        self.__name = name\n",
        "        self._speed = speed\n",
        "\n",
        "    def get_name(self):\n",
        "        return self.__name\n",
        "\n",
        "    def classify(self):\n",
        "        if self._speed > 100:\n",
        "            return \"High-speed Vehicle\"\n",
        "        else:\n",
        "            return \"Normal Vehicle\"\n",
        "\n",
        "    def show_info(self):\n",
        "        print(f\"Type: {self._type}, Name: {self.get_name()}, Speed: {self._speed} km/h, Predicted: {self.classify()}\")\n"
      ]
    },
    {
      "cell_type": "code",
      "source": [
        "# Subclass Car\n",
        "class Car(Vehicle):\n",
        "    def __init__(self, name, speed):\n",
        "        super().__init__(\"Car\", name, speed)\n",
        "        print(f\"Car Added: {name}\")\n",
        "\n",
        "    def show_info(self):\n",
        "        print(f\"Type: {self._type}, Name: {self.get_name()}, Speed: {self._speed} km/h, Predicted: {self.classify()}\")\n"
      ],
      "metadata": {
        "id": "lVlo5mmuzkcd"
      },
      "execution_count": 8,
      "outputs": []
    },
    {
      "cell_type": "code",
      "source": [
        "# Subclass Bike\n",
        "class Bike(Vehicle):\n",
        "    def __init__(self, name, speed):\n",
        "        super().__init__(\"Bike\", name, speed)\n",
        "        print(f\"Bike Added: {name}\")\n",
        "\n",
        "    def show_info(self):\n",
        "        print(f\"Type: {self._type}, Name: {self.get_name()}, Speed: {self._speed} km/h, Predicted: {self.classify()}\")\n"
      ],
      "metadata": {
        "id": "pwhEw56ozncO"
      },
      "execution_count": 9,
      "outputs": []
    },
    {
      "cell_type": "code",
      "source": [
        "# Main program to read input and create vehicles\n",
        "vehicles = []\n",
        "\n",
        "n = int(input(\"Enter number of vehicles: \"))\n",
        "for _ in range(n):\n",
        "    data = input().split()\n",
        "    v_type, name, speed = data[0], data[1], int(data[2])\n",
        "\n",
        "    if v_type.lower() == \"car\":\n",
        "        vehicles.append(Car(name, speed))\n",
        "    elif v_type.lower() == \"bike\":\n",
        "        vehicles.append(Bike(name, speed))\n"
      ],
      "metadata": {
        "colab": {
          "base_uri": "https://localhost:8080/"
        },
        "id": "O7pIECB5zpsV",
        "outputId": "bbdaa765-be03-40f4-a35c-81567c6b263b"
      },
      "execution_count": 10,
      "outputs": [
        {
          "output_type": "stream",
          "name": "stdout",
          "text": [
            "Enter number of vehicles: 2\n",
            "car BMW 300\n",
            "Car Added: BMW\n",
            "Bike Honda 90\n",
            "Bike Added: Honda\n"
          ]
        }
      ]
    },
    {
      "cell_type": "code",
      "source": [
        "print(\"\\n--- Vehicle Details ---\")\n",
        "for vehicle in vehicles:\n",
        "    vehicle.show_info()\n"
      ],
      "metadata": {
        "colab": {
          "base_uri": "https://localhost:8080/"
        },
        "id": "yVpOohVa0Bkl",
        "outputId": "f60f503b-0f10-4cb8-9a7b-45dc6a9185ea"
      },
      "execution_count": 11,
      "outputs": [
        {
          "output_type": "stream",
          "name": "stdout",
          "text": [
            "\n",
            "--- Vehicle Details ---\n",
            "Type: Car, Name: BMW, Speed: 300 km/h, Predicted: High-speed Vehicle\n",
            "Type: Bike, Name: Honda, Speed: 90 km/h, Predicted: Normal Vehicle\n"
          ]
        }
      ]
    }
  ]
}