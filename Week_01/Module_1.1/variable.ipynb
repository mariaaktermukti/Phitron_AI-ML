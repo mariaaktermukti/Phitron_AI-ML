{
 "cells": [
  {
   "cell_type": "code",
   "execution_count": 3,
   "id": "d98f34aa",
   "metadata": {},
   "outputs": [
    {
     "name": "stdout",
     "output_type": "stream",
     "text": [
      "Hello World\n",
      "Mukti\n",
      "123456\n"
     ]
    }
   ],
   "source": [
    "print(\"Hello World\")\n",
    "name=\"Mukti\"\n",
    "print(name)\n",
    "number=123456\n",
    "print(number)"
   ]
  },
  {
   "cell_type": "code",
   "execution_count": 4,
   "id": "93af2d4d",
   "metadata": {},
   "outputs": [
    {
     "name": "stdout",
     "output_type": "stream",
     "text": [
      "<class 'int'> <class 'float'> <class 'str'> <class 'bool'>\n",
      "<class 'float'>\n"
     ]
    }
   ],
   "source": [
    "age=22\n",
    "weight= 50.3\n",
    "name=\"Mukti\"\n",
    "is_pass=True\n",
    "\n",
    "print(type(age), type(weight), type(name), type(is_pass))\n",
    "\n",
    "age=22.3\n",
    "print(type(age))"
   ]
  },
  {
   "cell_type": "code",
   "execution_count": 7,
   "id": "de78c410",
   "metadata": {},
   "outputs": [
    {
     "name": "stdout",
     "output_type": "stream",
     "text": [
      "mukti\n"
     ]
    }
   ],
   "source": [
    "name = input(\"What is your name? \")\n",
    "print(name)"
   ]
  },
  {
   "cell_type": "code",
   "execution_count": 8,
   "id": "5df4a162",
   "metadata": {},
   "outputs": [
    {
     "name": "stdout",
     "output_type": "stream",
     "text": [
      "20\n",
      "<class 'str'>\n"
     ]
    }
   ],
   "source": [
    "age= input(\"Age is : \")\n",
    "print(age)\n",
    "print(type(age))"
   ]
  },
  {
   "cell_type": "code",
   "execution_count": 9,
   "id": "7b67b69b",
   "metadata": {},
   "outputs": [
    {
     "name": "stdout",
     "output_type": "stream",
     "text": [
      "23 <class 'int'>\n"
     ]
    }
   ],
   "source": [
    "age= input(\"Age is : \") #take as string\n",
    "age=int(age) # typecast it from string to integer\n",
    "print(age , type(age))"
   ]
  },
  {
   "cell_type": "code",
   "execution_count": 10,
   "id": "65b7b15a",
   "metadata": {},
   "outputs": [
    {
     "name": "stdout",
     "output_type": "stream",
     "text": [
      "5.6 <class 'str'>\n"
     ]
    }
   ],
   "source": [
    "height=input(\"Height is : \")\n",
    "print(height , type(height))"
   ]
  },
  {
   "cell_type": "code",
   "execution_count": 14,
   "id": "baa5a328",
   "metadata": {},
   "outputs": [
    {
     "name": "stdout",
     "output_type": "stream",
     "text": [
      "20.3 <class 'float'>\n",
      "23.7\n"
     ]
    }
   ],
   "source": [
    "height=float(input(\"Height is : \"))\n",
    "print(height , type(height))\n",
    "\n",
    "height= height+3.4\n",
    "print(height)"
   ]
  },
  {
   "cell_type": "markdown",
   "id": "3b6030f7",
   "metadata": {},
   "source": [
    "Operators in Python"
   ]
  },
  {
   "cell_type": "code",
   "execution_count": 19,
   "id": "02730e75",
   "metadata": {},
   "outputs": [
    {
     "name": "stdout",
     "output_type": "stream",
     "text": [
      "13 7 30 3.33 1\n"
     ]
    }
   ],
   "source": [
    "x=10;y=3\n",
    "sum=x+y #summation\n",
    "sub=x-y #substraction\n",
    "mult=x*y #Multiplication\n",
    "div= round(x/y, 2) #division\n",
    "\n",
    "rem= x%y #reminder\n",
    "\n",
    "print(sum, sub, mult, div, rem)"
   ]
  },
  {
   "cell_type": "code",
   "execution_count": null,
   "id": "0c2836fd",
   "metadata": {},
   "outputs": [],
   "source": [
    "Comparison Operators"
   ]
  },
  {
   "cell_type": "code",
   "execution_count": null,
   "id": "9c92db03",
   "metadata": {},
   "outputs": [
    {
     "name": "stdout",
     "output_type": "stream",
     "text": [
      "True True\n",
      "False\n"
     ]
    }
   ],
   "source": [
    "x=10;y=3\n",
    "grater_than= x>y\n",
    "greater_than_equal= (10>=10)\n",
    "\n",
    "print(grater_than, greater_than_equal)\n",
    "\n",
    "\n",
    "equal = x==y #10 not equal to 3\n",
    "print(equal)"
   ]
  },
  {
   "cell_type": "markdown",
   "id": "69ccfca4",
   "metadata": {},
   "source": [
    "Logical Operators"
   ]
  },
  {
   "cell_type": "code",
   "execution_count": 26,
   "id": "2eb86d3b",
   "metadata": {},
   "outputs": [
    {
     "name": "stdout",
     "output_type": "stream",
     "text": [
      "200  is greater\n"
     ]
    }
   ],
   "source": [
    "x=100\n",
    "y=200\n",
    "z=30\n",
    "if(x>y and x>z):\n",
    "    print(x, \" is greater\")\n",
    "elif(y>x and y>z):\n",
    "    print(y, \" is greater\") \n",
    "else:\n",
    "    print(z, \" is greater\")\n",
    "           "
   ]
  },
  {
   "cell_type": "markdown",
   "id": "c7b683d7",
   "metadata": {},
   "source": [
    "Precedence and Associativity"
   ]
  },
  {
   "cell_type": "code",
   "execution_count": null,
   "id": "b6295fe7",
   "metadata": {},
   "outputs": [
    {
     "name": "stdout",
     "output_type": "stream",
     "text": [
      "5.0\n",
      "0.0\n"
     ]
    }
   ],
   "source": [
    "eq= 10+ 10/2 - 5*2 #1st (/,*), then (+,-) Precedence , Associativity->left to right\n",
    "print(eq)\n",
    "\n",
    "\n",
    "eq2= (10 +10 )/2 - 5*2 # age kora lagbe bracket use korbo\n",
    "print(eq2)"
   ]
  },
  {
   "cell_type": "markdown",
   "id": "2ecf9032",
   "metadata": {},
   "source": [
    "Problem solve from codeforces:"
   ]
  },
  {
   "cell_type": "code",
   "execution_count": null,
   "id": "3c1445c6",
   "metadata": {},
   "outputs": [
    {
     "name": "stdout",
     "output_type": "stream",
     "text": [
      "<class 'int'> <class 'int'>\n",
      "8\n"
     ]
    }
   ],
   "source": [
    "inp=input()\n",
    "numbers= inp.split()\n",
    "x= int(numbers[0])\n",
    "y= int(numbers[1])\n",
    "# print(type(x), type(y))\n",
    "\n",
    "last_digit_of_x= x% 10\n",
    "last_digit_of_y= y%10\n",
    "sum= last_digit_of_x+last_digit_of_y\n",
    "print(sum) \n",
    "\n",
    "\n",
    "# num2=int(input(\"Enter 2nd digit\"))\n",
    "# last_digit_of_num1= num1%10\n",
    "# last_digit_of_num2= num2%10\n",
    "# sum= last_digit_of_num1+last_digit_of_num2\n",
    "# print(sum)\n"
   ]
  }
 ],
 "metadata": {
  "kernelspec": {
   "display_name": "Python 3",
   "language": "python",
   "name": "python3"
  },
  "language_info": {
   "codemirror_mode": {
    "name": "ipython",
    "version": 3
   },
   "file_extension": ".py",
   "mimetype": "text/x-python",
   "name": "python",
   "nbconvert_exporter": "python",
   "pygments_lexer": "ipython3",
   "version": "3.13.7"
  }
 },
 "nbformat": 4,
 "nbformat_minor": 5
}
