{
 "cells": [
  {
   "cell_type": "markdown",
   "id": "03dbe96f-7629-41c0-82a5-4796dda9d824",
   "metadata": {},
   "source": [
    "## function parameters(Input)"
   ]
  },
  {
   "cell_type": "code",
   "execution_count": 1,
   "id": "1bf5c32b-23ca-4b72-a171-262331811b5e",
   "metadata": {},
   "outputs": [],
   "source": [
    "def greet(user):\n",
    "    print(f\"Hello {user}\")"
   ]
  },
  {
   "cell_type": "code",
   "execution_count": 2,
   "id": "f1d83935-bb0e-4830-9675-311b2646eb0e",
   "metadata": {},
   "outputs": [
    {
     "name": "stdout",
     "output_type": "stream",
     "text": [
      "Hello Mukti\n"
     ]
    }
   ],
   "source": [
    "greet(\"Mukti\")"
   ]
  },
  {
   "cell_type": "code",
   "execution_count": 19,
   "id": "4c6ce78d-1267-4c4a-8612-f98d3270e7b5",
   "metadata": {},
   "outputs": [
    {
     "name": "stdout",
     "output_type": "stream",
     "text": [
      "10 20 30\n",
      "540\n",
      "30 10 20\n",
      "1030\n"
     ]
    }
   ],
   "source": [
    "def square_addition(a, b,c):\n",
    "    print(f\"{a} {b} {c}\")\n",
    "    a = a**2\n",
    "    b = b**2\n",
    "    return a+b+c\n",
    "#positional argument\n",
    "ans= square_addition(10,20,30)+10\n",
    "print(ans)\n",
    "\n",
    "\n",
    "#keyword argument\n",
    "ans= square_addition(b=10,c=20,a=30)+10\n",
    "print(ans)"
   ]
  },
  {
   "cell_type": "code",
   "execution_count": 7,
   "id": "f02a7439-6fde-4cd8-a816-6e59d3924578",
   "metadata": {},
   "outputs": [],
   "source": [
    " def square_addition(a, b,c):\n",
    "    print(f\"{a} {b} {c}\")\n",
    "    a = a**2\n",
    "    b = b**2\n",
    "    c = c**2\n",
    "    return a+b+c\n"
   ]
  },
  {
   "cell_type": "code",
   "execution_count": 9,
   "id": "34187a07-aa36-4611-90c0-6e404554f2a2",
   "metadata": {},
   "outputs": [
    {
     "name": "stdout",
     "output_type": "stream",
     "text": [
      "10 20 30\n",
      "1400\n"
     ]
    }
   ],
   "source": [
    "ans=square_addition(10,20,30)\n",
    "print(ans)"
   ]
  },
  {
   "cell_type": "code",
   "execution_count": 15,
   "id": "a4d993ca-48b4-4ea1-a746-55c2d13c126d",
   "metadata": {},
   "outputs": [],
   "source": [
    "def square_addition(*args):\n",
    "    summation=0\n",
    "    for i in args:\n",
    "        i=i**2\n",
    "        summation+=i\n",
    "    return summation    "
   ]
  },
  {
   "cell_type": "code",
   "execution_count": 16,
   "id": "d7b696d8-8db4-4582-b133-d32e548154a7",
   "metadata": {},
   "outputs": [
    {
     "name": "stdout",
     "output_type": "stream",
     "text": [
      "5500\n"
     ]
    }
   ],
   "source": [
    "ans= square_addition(10,20,30,40,50)\n",
    "print(ans)"
   ]
  },
  {
   "cell_type": "code",
   "execution_count": 21,
   "id": "8dd13140-7049-47d2-a204-6dc75b8607ee",
   "metadata": {},
   "outputs": [],
   "source": [
    "def student(**kwargs):\n",
    "    for key,val in kwargs.items():\n",
    "        print(f\"{key} : {val}\")"
   ]
  },
  {
   "cell_type": "markdown",
   "id": "abdaf758-d74e-4ce8-a0da-fe8db37e15b5",
   "metadata": {},
   "source": [
    "student( name=\"mukti\", cls=10, roll=2, marks=98)"
   ]
  },
  {
   "cell_type": "markdown",
   "id": "6edb317a-1ec8-4b27-a918-dc8cae87ee22",
   "metadata": {},
   "source": [
    "## Return "
   ]
  },
  {
   "cell_type": "code",
   "execution_count": 25,
   "id": "a2396657-9077-4750-9cc2-46ffbeaefa7d",
   "metadata": {},
   "outputs": [
    {
     "data": {
      "text/plain": [
       "int"
      ]
     },
     "execution_count": 25,
     "metadata": {},
     "output_type": "execute_result"
    }
   ],
   "source": [
    "def give_prediction():\n",
    "    return 10\n",
    "\n",
    "type(give_prediction())"
   ]
  },
  {
   "cell_type": "code",
   "execution_count": 26,
   "id": "8114500e-31cf-4358-97a3-4409756b90b5",
   "metadata": {},
   "outputs": [
    {
     "data": {
      "text/plain": [
       "str"
      ]
     },
     "execution_count": 26,
     "metadata": {},
     "output_type": "execute_result"
    }
   ],
   "source": [
    "def give_prediction():\n",
    "    return \"name\"\n",
    "\n",
    "type(give_prediction())"
   ]
  },
  {
   "cell_type": "code",
   "execution_count": 31,
   "id": "4bfe0185-19ee-4c11-8652-0ebd4268efb4",
   "metadata": {},
   "outputs": [
    {
     "name": "stdout",
     "output_type": "stream",
     "text": [
      "<class 'tuple'>\n",
      "(10, 20)\n",
      "10 20\n"
     ]
    }
   ],
   "source": [
    "def give_prediction():\n",
    "    return 10,20\n",
    "\n",
    "print(type(give_prediction()))\n",
    "print(give_prediction())\n",
    "\n",
    "#unpacking\n",
    "\n",
    "x,y= give_prediction()\n",
    "print(x,y)"
   ]
  },
  {
   "cell_type": "code",
   "execution_count": 34,
   "id": "317a377f-a918-4039-8f7c-c0372b8302e6",
   "metadata": {},
   "outputs": [
    {
     "name": "stdout",
     "output_type": "stream",
     "text": [
      "<class 'tuple'>\n",
      "([10, 20, 30], [40, 50, 60])\n",
      "[10, 20, 30]\n",
      "[40, 50, 60]\n"
     ]
    }
   ],
   "source": [
    "def give_prediction():\n",
    "    a= [10,20,30]\n",
    "    b=[40,50,60]\n",
    "\n",
    "    return a,b\n",
    "\n",
    "print(type(give_prediction()))\n",
    "print(give_prediction())\n",
    "\n",
    "##unpacking\n",
    "\n",
    "x,y=give_prediction()\n",
    "print(x)\n",
    "print(y)"
   ]
  },
  {
   "cell_type": "code",
   "execution_count": 38,
   "id": "315eba2c-db89-4665-840b-4f8ee192d47d",
   "metadata": {},
   "outputs": [
    {
     "name": "stdout",
     "output_type": "stream",
     "text": [
      "<class 'set'>\n",
      "10\n",
      "20\n",
      "30\n"
     ]
    }
   ],
   "source": [
    "def give_prediction():\n",
    "    a= {10,20,30}\n",
    "\n",
    "    return a  \n",
    "print(type(give_prediction()))  \n",
    "\n",
    "for item in x:\n",
    "    print(item)"
   ]
  },
  {
   "cell_type": "code",
   "execution_count": 45,
   "id": "4328d1bc-e9f6-438d-affb-c4804dcd718b",
   "metadata": {},
   "outputs": [
    {
     "name": "stdout",
     "output_type": "stream",
     "text": [
      "<class 'dict'>\n",
      "('name', 'Mukti')\n",
      "('addr', 'Mym')\n"
     ]
    }
   ],
   "source": [
    "\n",
    "def give_prediction():\n",
    "    return { \"name\" : \"Mukti\" , \"addr\" : \"Mym\"},{ \"name\" : \"Maria\" , \"addr\" : \"Dhaka\"}\n",
    "\n",
    "x,y = give_prediction()\n",
    "print(type(x))\n",
    "\n",
    "for item in x.items():\n",
    "    print(item) "
   ]
  },
  {
   "cell_type": "code",
   "execution_count": 56,
   "id": "ab93be9b-7f15-43a8-a06b-2267fa167f85",
   "metadata": {},
   "outputs": [
    {
     "name": "stdout",
     "output_type": "stream",
     "text": [
      "<class 'set_iterator'>\n",
      "50\n",
      "20\n",
      "40\n",
      "10\n",
      "30\n",
      "50\n",
      "20\n",
      "40\n",
      "10\n",
      "30\n"
     ]
    }
   ],
   "source": [
    "s={10,20,30,40,50}\n",
    "\n",
    "s_iter=iter(s)\n",
    "print(type(s_iter))\n",
    "print(next(s_iter))\n",
    "print(next(s_iter))\n",
    "print(next(s_iter))\n",
    "print(next(s_iter))\n",
    "print(next(s_iter))\n",
    "\n",
    "for i in s:\n",
    "    print(i)"
   ]
  },
  {
   "cell_type": "markdown",
   "id": "ce6fc7cb-ec5f-4a21-a5d9-f761281be76c",
   "metadata": {},
   "source": [
    "## Generator \n"
   ]
  },
  {
   "cell_type": "markdown",
   "id": "a9737024-9096-4f78-8a24-dbeb1046d9a2",
   "metadata": {},
   "source": [
    "\n",
    "lst = [ x for x in range(500) ] # dataset \n",
    "\n",
    "def data_loader(chunk_size,lst):\n",
    "    for i in range(0,len(lst),chunk_size):\n",
    "        yield lst[i:i+chunk_size]\n",
    "\n",
    "\n",
    "x = data_loader(5,lst) \n",
    "print(type(x))\n",
    "\n",
    "print(next(x))\n",
    "print(next(x))"
   ]
  },
  {
   "cell_type": "markdown",
   "id": "a7cafc6e-c4c4-4486-9261-993cabd81a0a",
   "metadata": {},
   "source": [
    "## Lambda function"
   ]
  },
  {
   "cell_type": "code",
   "execution_count": 66,
   "id": "8eef1976-c95d-420e-9e88-4792cd8a3971",
   "metadata": {},
   "outputs": [
    {
     "name": "stdout",
     "output_type": "stream",
     "text": [
      "13\n"
     ]
    }
   ],
   "source": [
    "def square_addition(x,y):\n",
    "    return x**2 + y**2\n",
    "\n",
    "sq_add = lambda x,y: x**2 + y**2\n",
    "print(sq_add(2,3))"
   ]
  },
  {
   "cell_type": "code",
   "execution_count": 68,
   "id": "1482b40a-8a8f-46ad-b7ef-d6f20798fd6f",
   "metadata": {},
   "outputs": [
    {
     "name": "stdout",
     "output_type": "stream",
     "text": [
      "False\n"
     ]
    }
   ],
   "source": [
    "if_even= lambda x : x%2 ==0\n",
    "\n",
    "print(if_even(11))"
   ]
  },
  {
   "cell_type": "markdown",
   "id": "ce06fc47-c626-496e-82e4-47a362108b28",
   "metadata": {},
   "source": [
    "### Map\n"
   ]
  },
  {
   "cell_type": "code",
   "execution_count": 73,
   "id": "455f6bd5-2006-4358-8303-72197d1a4540",
   "metadata": {},
   "outputs": [
    {
     "name": "stdout",
     "output_type": "stream",
     "text": [
      "[1, 4, 9, 16, 25, 36, 36]\n"
     ]
    }
   ],
   "source": [
    "lst=[1,2,3,4,5,6,6]\n",
    "\n",
    "def square(x):\n",
    "    return x**2\n",
    "\n",
    "##Map\n",
    "\n",
    "lst=list(map(square, lst))\n",
    "print(lst)\n"
   ]
  },
  {
   "cell_type": "code",
   "execution_count": 80,
   "id": "c61727d8-23a3-4d00-9447-19f1ca8ed546",
   "metadata": {},
   "outputs": [
    {
     "name": "stdout",
     "output_type": "stream",
     "text": [
      "['H', 'E', 'L', 'L', 'O', 'W', ' ', 'W', 'O', 'R', 'L', 'D', '!', ' ', 'W', 'E', 'L', 'C', 'O', 'M', 'E', ' ', 'T', 'O', ' ', 'A', 'I']\n",
      "H E L L O W   W O R L D !   W E L C O M E   T O   A I\n"
     ]
    }
   ],
   "source": [
    "##string\n",
    "\n",
    "string=\"Hellow World! welcome to AI\"\n",
    "string1=list(map(str.upper,string))\n",
    "print(string1)\n",
    "\n",
    "string1=\" \".join(string1)\n",
    "print(string1)"
   ]
  },
  {
   "cell_type": "markdown",
   "id": "e922c728-5793-4e26-9407-b905543d8365",
   "metadata": {},
   "source": [
    "## Map with lambda function"
   ]
  },
  {
   "cell_type": "code",
   "execution_count": 81,
   "id": "c7987b9c-3906-42f9-886b-8617e00f391e",
   "metadata": {},
   "outputs": [
    {
     "name": "stdout",
     "output_type": "stream",
     "text": [
      "[1, 4, 3, 16, 5, 36]\n"
     ]
    }
   ],
   "source": [
    "lst=[1,2,3,4,5,6]\n",
    "lst=list(map(lambda x:x**2 if x%2 ==0 else x, lst))\n",
    "print(lst)"
   ]
  },
  {
   "cell_type": "markdown",
   "id": "431207ed-81af-487c-b384-0104f8537a9e",
   "metadata": {},
   "source": [
    "  ## Filter"
   ]
  },
  {
   "cell_type": "code",
   "execution_count": 86,
   "id": "079c33e2-f9d1-4f09-a98e-acab7b8cffd3",
   "metadata": {},
   "outputs": [
    {
     "name": "stdout",
     "output_type": "stream",
     "text": [
      "[0, 2, 4, 6, 8, 10, 12, 14, 16, 18, 20, 22, 24, 26, 28, 30, 32, 34, 36, 38, 40, 42, 44, 46, 48, 50, 52, 54, 56, 58, 60, 62, 64, 66, 68, 70, 72, 74, 76, 78, 80, 82, 84, 86, 88, 90, 92, 94, 96, 98]\n",
      "[51, 52, 53, 54, 55, 56, 57, 58, 59, 60, 61, 62, 63, 64, 65, 66, 67, 68, 69, 70, 71, 72, 73, 74, 75, 76, 77, 78, 79, 80, 81, 82, 83, 84, 85, 86, 87, 88, 89, 90, 91, 92, 93, 94, 95, 96, 97, 98, 99]\n"
     ]
    }
   ],
   "source": [
    "numbers=[x for x in range(100)]\n",
    "# print(numbers)\n",
    "\n",
    "##even\n",
    "even=list(filter(lambda x : x % 2 == 0,numbers))\n",
    "print(even)\n",
    "\n",
    "fifty_upper=list(filter(lambda x : x>50,numbers))\n",
    "print(fifty_upper)\n",
    "\n",
    "\n"
   ]
  },
  {
   "cell_type": "code",
   "execution_count": 87,
   "id": "05400cd8-c99c-4087-a6b5-c5286f28af63",
   "metadata": {},
   "outputs": [
    {
     "name": "stdout",
     "output_type": "stream",
     "text": [
      "[1, 'hello', [1, 2], True]\n"
     ]
    }
   ],
   "source": [
    "data=[0,1, '',None,\"hello\", [],[1,2],None,True, False,None]\n",
    "cleaned_data=list(filter(None,data))\n",
    "print(cleaned_data)"
   ]
  },
  {
   "cell_type": "code",
   "execution_count": 93,
   "id": "3bf71e10-5e15-45ae-90d6-2fcd6b293622",
   "metadata": {},
   "outputs": [
    {
     "name": "stdout",
     "output_type": "stream",
     "text": [
      "['E', 'O', 'O', 'E', 'O', 'E', 'O', 'A', 'I']\n"
     ]
    }
   ],
   "source": [
    "#string\n",
    "#string=\"Hellow World! welcome to AI\"\n",
    "vowel_= list(filter(lambda x : x in \"AEIOU\" , string1))\n",
    "print(vowel_)"
   ]
  },
  {
   "cell_type": "code",
   "execution_count": 99,
   "id": "1f0c01a0-613d-4bbd-a132-2e0f0967e627",
   "metadata": {},
   "outputs": [
    {
     "name": "stdout",
     "output_type": "stream",
     "text": [
      "['aaa', 'ccc', 'ddd']\n"
     ]
    }
   ],
   "source": [
    "fruits=['aaa', 'bb', 'ccc', 'ddd']\n",
    "filtering= list(filter(lambda x : len(x)>2, fruits))\n",
    "print(filtering)"
   ]
  },
  {
   "cell_type": "markdown",
   "id": "6c297daa-b492-49bd-9088-a5b25430d3c0",
   "metadata": {},
   "source": [
    "### Reduce"
   ]
  },
  {
   "cell_type": "code",
   "execution_count": 101,
   "id": "110f8f06-671f-401c-883d-cda612a55f93",
   "metadata": {},
   "outputs": [
    {
     "name": "stdout",
     "output_type": "stream",
     "text": [
      "21\n"
     ]
    }
   ],
   "source": [
    "from functools import reduce\n",
    "lst=[1,2,3,4,5,6]\n",
    "summation=reduce(lambda x,y : x+y , lst)\n",
    "print(summation)"
   ]
  },
  {
   "cell_type": "code",
   "execution_count": 104,
   "id": "f4b79ff5-a412-4427-b6c2-be7c4364125e",
   "metadata": {},
   "outputs": [
    {
     "name": "stdout",
     "output_type": "stream",
     "text": [
      "10\n"
     ]
    }
   ],
   "source": [
    "lst=[1,2,10,4,5,6]\n",
    "max_value=reduce(lambda x,y :x if x>y else y, lst)\n",
    "print(max_value)"
   ]
  },
  {
   "cell_type": "code",
   "execution_count": null,
   "id": "0343731f-3a3d-45ae-8c40-307b1799ddab",
   "metadata": {},
   "outputs": [],
   "source": []
  }
 ],
 "metadata": {
  "kernelspec": {
   "display_name": "Python 3 (ipykernel)",
   "language": "python",
   "name": "python3"
  },
  "language_info": {
   "codemirror_mode": {
    "name": "ipython",
    "version": 3
   },
   "file_extension": ".py",
   "mimetype": "text/x-python",
   "name": "python",
   "nbconvert_exporter": "python",
   "pygments_lexer": "ipython3",
   "version": "3.13.5"
  }
 },
 "nbformat": 4,
 "nbformat_minor": 5
}
