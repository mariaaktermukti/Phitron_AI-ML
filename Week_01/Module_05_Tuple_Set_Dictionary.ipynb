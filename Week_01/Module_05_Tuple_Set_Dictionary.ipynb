{
 "cells": [
  {
   "cell_type": "markdown",
   "id": "356d9970-43a1-4e6c-8fa9-2a758dd04512",
   "metadata": {},
   "source": [
    "### Tuples"
   ]
  },
  {
   "cell_type": "code",
   "execution_count": 9,
   "id": "576144bb-75ce-4669-ac9e-733e264168ea",
   "metadata": {},
   "outputs": [
    {
     "name": "stdout",
     "output_type": "stream",
     "text": [
      "<class 'tuple'> (10, 20, 30, 40)\n",
      "<class 'tuple'> (19.23, 56.2, 10.3, 19.2)\n",
      "(10, 10.5, 'Mukti', True)\n",
      "<class 'tuple'> (10, 20, 30)\n"
     ]
    }
   ],
   "source": [
    "#declaration\n",
    "\n",
    "tup=(10,20,30,40)\n",
    "print(type(tup), tup)\n",
    "\n",
    "tup2=(19.23, 56.2,10.3,19.2)\n",
    "print(type(tup2), tup2)\n",
    "\n",
    "mixed_tup=(10,10.5,\"Mukti\", True)\n",
    "print(mixed_tup)\n",
    "\n",
    "tup1=tuple({10})\n",
    "# print(type(tup1), tup1)\n",
    "\n",
    "list=[10,20,30]\n",
    "tup1=tuple(list)\n",
    "print(type(tup1), tup1)"
   ]
  },
  {
   "cell_type": "code",
   "execution_count": 12,
   "id": "2226540b-13c7-4cc6-9505-7cb40ca149bd",
   "metadata": {},
   "outputs": [
    {
     "name": "stdout",
     "output_type": "stream",
     "text": [
      "10.5\n",
      "(10, 20, 30)\n"
     ]
    }
   ],
   "source": [
    "#access\n",
    "\n",
    "tup=(10,20,30,10.5,\"str\",False)\n",
    "#access using index\n",
    "print(tup[3])\n",
    "\n",
    "#slicing\n",
    "new_tup=tup[0:3] \n",
    "print(new_tup)"
   ]
  },
  {
   "cell_type": "code",
   "execution_count": 15,
   "id": "a7ae2b3d-6aa4-4efc-ad56-2d8d786cac7a",
   "metadata": {},
   "outputs": [
    {
     "name": "stdout",
     "output_type": "stream",
     "text": [
      "[10, 100, 30, 40, 60]\n"
     ]
    },
    {
     "ename": "TypeError",
     "evalue": "'tuple' object does not support item assignment",
     "output_type": "error",
     "traceback": [
      "\u001b[1;31m---------------------------------------------------------------------------\u001b[0m",
      "\u001b[1;31mTypeError\u001b[0m                                 Traceback (most recent call last)",
      "Cell \u001b[1;32mIn[15], line 10\u001b[0m\n\u001b[0;32m      8\u001b[0m \u001b[38;5;66;03m#tuple->\u001b[39;00m\n\u001b[0;32m      9\u001b[0m tup\u001b[38;5;241m=\u001b[39m(\u001b[38;5;241m10\u001b[39m,\u001b[38;5;241m20\u001b[39m,\u001b[38;5;241m30\u001b[39m,\u001b[38;5;241m40\u001b[39m)\n\u001b[1;32m---> 10\u001b[0m tup[\u001b[38;5;241m1\u001b[39m]\u001b[38;5;241m=\u001b[39m\u001b[38;5;241m100\u001b[39m\n\u001b[0;32m     11\u001b[0m \u001b[38;5;28mprint\u001b[39m(tup)\n",
      "\u001b[1;31mTypeError\u001b[0m: 'tuple' object does not support item assignment"
     ]
    }
   ],
   "source": [
    "#immutability\n",
    "lst=[10,20,30,40]\n",
    "lst.append(60) # add 60 in last position\n",
    "lst[1]=100\n",
    "print(lst)\n",
    "\n",
    "\n",
    "#tuple-> immutable(not change)\n",
    "tup=(10,20,30,40)\n",
    "tup[1]=100\n",
    "print(tup)"
   ]
  },
  {
   "cell_type": "code",
   "execution_count": 17,
   "id": "3121533c-20d7-4fd5-8347-48a59dd846b9",
   "metadata": {},
   "outputs": [
    {
     "name": "stdout",
     "output_type": "stream",
     "text": [
      "2\n",
      "3\n"
     ]
    }
   ],
   "source": [
    "#tuple method ->count & index\n",
    "tup=(10,20,30,40,10,20,30)\n",
    "print(tup.count(10))\n",
    "print(tup.index(40))"
   ]
  },
  {
   "cell_type": "markdown",
   "id": "1e6b2e2b-aee4-4372-add2-8a0914d3e95e",
   "metadata": {},
   "source": [
    "## Set"
   ]
  },
  {
   "cell_type": "code",
   "execution_count": 18,
   "id": "b21fd413-aa6c-496c-b791-42e5bc215af4",
   "metadata": {},
   "outputs": [
    {
     "name": "stdout",
     "output_type": "stream",
     "text": [
      "<class 'set'> {1, 2, 3}\n"
     ]
    }
   ],
   "source": [
    "A={1,2,3}\n",
    "print(type(A), A)"
   ]
  },
  {
   "cell_type": "code",
   "execution_count": 25,
   "id": "ac452ea4-f742-4665-aa76-f4934e381669",
   "metadata": {},
   "outputs": [
    {
     "name": "stdout",
     "output_type": "stream",
     "text": [
      "<class 'list'>\n",
      "<class 'tuple'>\n",
      "<class 'dict'>\n",
      "<class 'set'>\n"
     ]
    }
   ],
   "source": [
    "##Empty Structure\n",
    "\n",
    "b=[]\n",
    "print(type(b))\n",
    "\n",
    "c=()\n",
    "print(type(c))\n",
    "\n",
    "s={}\n",
    "print(type(s))\n",
    "\n",
    "S=set()\n",
    "print(type(S))\n"
   ]
  },
  {
   "cell_type": "code",
   "execution_count": 31,
   "id": "bcea32ea-3d28-4c72-864d-949de19e9fa5",
   "metadata": {},
   "outputs": [
    {
     "name": "stdout",
     "output_type": "stream",
     "text": [
      "3 in present\n",
      "10\n"
     ]
    }
   ],
   "source": [
    "s={1,2,3,4,1,2}\n",
    "if (3 in s):\n",
    "    print(\"3 in present\")\n",
    "else:\n",
    "    print(\"Not present\")\n",
    "\n",
    "\n",
    "sum=0\n",
    "for elements in s:\n",
    "    sum+=elements\n",
    "\n",
    "print(sum)     \n",
    "    "
   ]
  },
  {
   "cell_type": "code",
   "execution_count": 37,
   "id": "eeda97e7-e7bf-4498-9fc1-3ba53f573c2d",
   "metadata": {},
   "outputs": [
    {
     "name": "stdout",
     "output_type": "stream",
     "text": [
      "{1, 2, 3, 4, 5}\n",
      "{1, 2, 3, 4, 5, 10}\n",
      "{0, 1, 2, 3, 4, 5, 10}\n",
      "{2, 3, 4, 5, 10}\n",
      "{2, 3, 5, 10}\n"
     ]
    }
   ],
   "source": [
    "s={5,1,2,4,3} \n",
    "print(s)\n",
    "s.add(10)\n",
    "print(s)\n",
    "s.add(0)\n",
    "print(s)\n",
    "\n",
    "s.pop() #delete value from 1st,2nd....so on\n",
    "s.pop()\n",
    "print(s)\n",
    "\n",
    "s.remove(4)\n",
    "print(s)\n"
   ]
  },
  {
   "cell_type": "markdown",
   "id": "688ccb93-2333-4812-81a8-1784bfdaf40c",
   "metadata": {},
   "source": [
    "## Methods of set- Mathematical "
   ]
  },
  {
   "cell_type": "code",
   "execution_count": 42,
   "id": "a52e64ee-bc46-4e00-b6dc-d7e0b7118632",
   "metadata": {},
   "outputs": [
    {
     "name": "stdout",
     "output_type": "stream",
     "text": [
      "{1, 2, 3, 4, 5, 6}\n",
      "{1, 2, 3}\n",
      "False\n",
      "True\n"
     ]
    }
   ],
   "source": [
    "a={1,2,3}\n",
    "b={1,2,3,4,5,6}\n",
    "print(a.union(b))\n",
    "\n",
    "print(a.intersection(b))\n",
    "\n",
    "print(a.isdisjoint(b))\n",
    "\n",
    "print(a.issubset(b))"
   ]
  },
  {
   "cell_type": "markdown",
   "id": "c7135adf-3e22-4bee-9f25-6acbd1035cb4",
   "metadata": {},
   "source": [
    "## dictionary in Python"
   ]
  },
  {
   "cell_type": "code",
   "execution_count": 45,
   "id": "b078a580-e5f5-4c8f-a5fb-d0e52ec61184",
   "metadata": {},
   "outputs": [
    {
     "name": "stdout",
     "output_type": "stream",
     "text": [
      "<class 'dict'>\n",
      "<class 'dict'> {'name': 'Mukti', 'age': 22, 'address': 'Dhaka', 'numbers': {10, 20, 30}}\n"
     ]
    }
   ],
   "source": [
    "dic={}\n",
    "print(type(dic))\n",
    "\n",
    "dic={ \"name\" : \"Mukti\" , \"age\" : 22, \"address\" : \"Dhaka\" , \"numbers\" :{10,20,30}}\n",
    "print(type(dic), dic)"
   ]
  },
  {
   "cell_type": "code",
   "execution_count": 53,
   "id": "366e5599-613a-4227-9602-ae66271b1bfa",
   "metadata": {},
   "outputs": [
    {
     "name": "stdout",
     "output_type": "stream",
     "text": [
      "Mukti {10, 20, 30}\n",
      "22\n",
      "{'name': 'Maria', 'age': 22, 'address': 'Dhaka', 'numbers': {10, 20, 30}}\n",
      "{'name': 'Mukti', 'age': 30, 'address': 'Dhaka', 'numbers': {10, 20, 30}}\n"
     ]
    }
   ],
   "source": [
    "##access\n",
    "#dic_name[key]\n",
    "print(dic[\"name\"],dic[\"numbers\"])\n",
    "print(dic.get(\"age\"))\n",
    "\n",
    "dic[\"name\"]=\"Maria\"\n",
    "print(dic)\n",
    "\n",
    "dic={ \"name\" : \"Mukti\" , \"age\" : 22, \"address\" : \"Dhaka\" , \"numbers\" :{10,20,30},\"age\": 30}\n",
    "print(dic)"
   ]
  },
  {
   "cell_type": "code",
   "execution_count": 4,
   "id": "a73c196a-89ed-43d1-b5f3-68023f778513",
   "metadata": {},
   "outputs": [
    {
     "name": "stdout",
     "output_type": "stream",
     "text": [
      "{'name': 'Mukti', 'age': 30, 'address': 'Dhaka', 'numbers': {10, 20, 30}}\n",
      "None\n",
      "0\n"
     ]
    }
   ],
   "source": [
    "dic={ \"name\" : \"Mukti\" , \"age\" : 22, \"address\" : \"Dhaka\" , \"numbers\" :{10,20,30},\"age\": 30}\n",
    "print(dic)\n",
    "\n",
    "print(dic.get(\"math_marks\"))\n",
    "print(dic.get(\"math_marks\", 0))"
   ]
  },
  {
   "cell_type": "code",
   "execution_count": 6,
   "id": "9578774e-4755-47e1-9e7a-60c79e0b4741",
   "metadata": {},
   "outputs": [
    {
     "name": "stdout",
     "output_type": "stream",
     "text": [
      "{'name': 'Mukti', 'age': 30, 'address': 'Dhaka', 'numbers': {10, 20, 30}}\n",
      "{'name': 'Mukti', 'age': 30, 'address': 'Dhaka', 'numbers': {10, 20, 30}, 'math_marks': 30}\n",
      "{'name': 'Mukti', 'age': 30, 'address': 'Dhaka', 'numbers': {10, 20, 30}, 'math_marks': 30, 'english_marks': 40}\n"
     ]
    }
   ],
   "source": [
    "dic={ \"name\" : \"Mukti\" , \"age\" : 22, \"address\" : \"Dhaka\" , \"numbers\" :{10,20,30},\"age\": 30}\n",
    "print(dic)\n",
    "#add a value\n",
    "dic[\"math_marks\"]=30\n",
    "print(dic)\n",
    "\n",
    "dic.update({\"english_marks\":40})\n",
    "print(dic)"
   ]
  },
  {
   "cell_type": "code",
   "execution_count": 7,
   "id": "e4e56453-056f-4473-aa38-3aee26a97da7",
   "metadata": {},
   "outputs": [
    {
     "name": "stdout",
     "output_type": "stream",
     "text": [
      "{'name': 'Mukti', 'age': 30, 'address': 'Dhaka', 'numbers': {10, 20, 30}, 'english_marks': 40}\n"
     ]
    }
   ],
   "source": [
    "#deleteing\n",
    "\n",
    "del dic[\"math_marks\"]\n",
    "print(dic)"
   ]
  },
  {
   "cell_type": "code",
   "execution_count": 9,
   "id": "4cd69124-4003-4b31-8e4d-e06785ee88d7",
   "metadata": {},
   "outputs": [
    {
     "name": "stdout",
     "output_type": "stream",
     "text": [
      "{'name': 'Mukti', 'age': 30, 'address': 'Dhaka', 'numbers': {10, 20, 30}, 'english_marks': 40}\n"
     ]
    }
   ],
   "source": [
    "#Copy\n",
    "dic_2=dic.copy()\n",
    "print(dic_2)"
   ]
  },
  {
   "cell_type": "code",
   "execution_count": 13,
   "id": "42b7b9de-334b-49f7-b63f-cecbacc4101c",
   "metadata": {},
   "outputs": [
    {
     "ename": "TypeError",
     "evalue": "unhashable type: 'list'",
     "output_type": "error",
     "traceback": [
      "\u001b[1;31m---------------------------------------------------------------------------\u001b[0m",
      "\u001b[1;31mTypeError\u001b[0m                                 Traceback (most recent call last)",
      "Cell \u001b[1;32mIn[13], line 3\u001b[0m\n\u001b[0;32m      1\u001b[0m \u001b[38;5;66;03m#testing\u001b[39;00m\n\u001b[1;32m----> 3\u001b[0m dis_3\u001b[38;5;241m=\u001b[39m{[\u001b[38;5;241m10\u001b[39m,\u001b[38;5;241m20\u001b[39m,\u001b[38;5;241m30\u001b[39m] : \u001b[38;5;124m\"\u001b[39m\u001b[38;5;124ma\u001b[39m\u001b[38;5;124m\"\u001b[39m}\n\u001b[0;32m      4\u001b[0m \u001b[38;5;28mprint\u001b[39m(dic_3)\n\u001b[0;32m      6\u001b[0m dic_4\u001b[38;5;241m=\u001b[39m{ \u001b[38;5;124m\"\u001b[39m\u001b[38;5;124mkey\u001b[39m\u001b[38;5;124m\"\u001b[39m : { \u001b[38;5;124m\"\u001b[39m\u001b[38;5;124mname\u001b[39m\u001b[38;5;124m\"\u001b[39m : \u001b[38;5;124m\"\u001b[39m\u001b[38;5;124mmukti\u001b[39m\u001b[38;5;124m\"\u001b[39m , \u001b[38;5;124m\"\u001b[39m\u001b[38;5;124mage\u001b[39m\u001b[38;5;124m\"\u001b[39m : \u001b[38;5;241m22\u001b[39m}}\n",
      "\u001b[1;31mTypeError\u001b[0m: unhashable type: 'list'"
     ]
    }
   ],
   "source": [
    "#testing\n",
    "\n",
    "dis_3={[10,20,30] : \"a\"}\n",
    "print(dic_3)\n",
    "\n",
    "dic_4={ \"key\" : { \"name\" : \"mukti\" , \"age\" : 22}}\n",
    "print(dic_4)  #output: {'key': {'name': 'mukti', 'age': 22}}\n",
    "\n"
   ]
  },
  {
   "cell_type": "markdown",
   "id": "8113e286-f9b1-499f-992a-3608cc92fb16",
   "metadata": {},
   "source": [
    "## dictionary View methods-> change in real time"
   ]
  },
  {
   "cell_type": "code",
   "execution_count": 20,
   "id": "f6966562-d227-42ca-a49c-a09c3bf46e55",
   "metadata": {},
   "outputs": [
    {
     "name": "stdout",
     "output_type": "stream",
     "text": [
      "{'name': 'Mukti', 'age': 30, 'address': 'Dhaka', 'numbers': {10, 20, 30}}\n",
      "dict_keys(['name', 'age', 'address', 'numbers'])\n",
      "dict_keys(['name', 'age', 'address', 'numbers', 'math_marks'])\n",
      "dict_values(['Mukti', 30, 'Dhaka', {10, 20, 30}, 30])\n",
      "dict_values(['Mukti', 30, 'Dhaka', {10, 20, 30}, 40])\n",
      "dict_items([('name', 'Mukti'), ('age', 30), ('address', 'Dhaka'), ('numbers', {10, 20, 30}), ('math_marks', 40)])\n"
     ]
    }
   ],
   "source": [
    "dic={ \"name\" : \"Mukti\" , \"age\" : 22, \"address\" : \"Dhaka\" , \"numbers\" :{10,20,30},\"age\": 30}\n",
    "print(dic)\n",
    "\n",
    "#key\n",
    "keys=dic.keys()\n",
    "print(keys)\n",
    "\n",
    "dic[\"math_marks\"]=30\n",
    "print(keys)\n",
    "\n",
    "\n",
    "#value\n",
    "values= dic.values()\n",
    "print(values)\n",
    "\n",
    "dic[\"math_marks\"]=40\n",
    "print(values)\n",
    "\n",
    "#items\n",
    "items=dic.items()\n",
    "print(items)\n"
   ]
  },
  {
   "cell_type": "code",
   "execution_count": 21,
   "id": "cc2f5039-3eac-4f72-8637-91f759b1bd02",
   "metadata": {},
   "outputs": [
    {
     "name": "stdout",
     "output_type": "stream",
     "text": [
      "name Mukti\n",
      "age 30\n",
      "address Dhaka\n",
      "numbers {10, 20, 30}\n",
      "math_marks 40\n"
     ]
    }
   ],
   "source": [
    "#iteration\n",
    "for key, value in dic.items():\n",
    "    print(key,value)"
   ]
  },
  {
   "cell_type": "markdown",
   "id": "c564105c-dfa7-4edc-bc84-3793983f2fc9",
   "metadata": {},
   "source": [
    "## Dictionary comprehension"
   ]
  },
  {
   "cell_type": "code",
   "execution_count": 24,
   "id": "256eaab6-1797-463d-a3be-adfd8e694ec9",
   "metadata": {},
   "outputs": [
    {
     "name": "stdout",
     "output_type": "stream",
     "text": [
      "<class 'range'>\n",
      "[1, 2, 3, 4, 5, 6, 7, 8, 9]\n"
     ]
    }
   ],
   "source": [
    "print(type(range(1,10)))\n",
    "\n",
    "print(list(range(1,10))) #[1, 2, 3, 4, 5, 6, 7, 8, 9]\n"
   ]
  },
  {
   "cell_type": "code",
   "execution_count": 26,
   "id": "557b4c11-3bea-4b65-930f-e8f01f392c4e",
   "metadata": {},
   "outputs": [
    {
     "name": "stdout",
     "output_type": "stream",
     "text": [
      "{1: 1, 2: 4, 3: 9, 4: 16, 5: 25, 6: 36, 7: 49, 8: 64, 9: 81, 10: 100}\n"
     ]
    }
   ],
   "source": [
    "square={x:x**2 for x in range(1,11)}\n",
    "print(square)"
   ]
  },
  {
   "cell_type": "code",
   "execution_count": 32,
   "id": "cc970552-122b-486f-b6b2-5ec32e9a0db9",
   "metadata": {},
   "outputs": [
    {
     "name": "stdout",
     "output_type": "stream",
     "text": [
      "{(10, 10.5): 'dhaka', (20.5, 192): 'chattogram', (101, 102): 'sylhet'}\n"
     ]
    }
   ],
   "source": [
    "co_ordinates = [(10,10.5),(20.5,192) , ( 101,102) ]\n",
    "locations =[\"dhaka\" , \"chattogram\" , \"sylhet\"]\n",
    "\n",
    "exact_location = {co_or : loc for co_or, loc in zip(co_ordinates,locations)}\n",
    "\n",
    "print(exact_location) "
   ]
  },
  {
   "cell_type": "markdown",
   "id": "a51d334f-3018-4b85-afbb-f2e741b2356b",
   "metadata": {},
   "source": [
    "## Problem solve with In Built Structures"
   ]
  },
  {
   "cell_type": "markdown",
   "id": "0f0527f6-687b-4d7f-bc13-42af2eb21540",
   "metadata": {},
   "source": [
    "\n",
    "1. Given a list of numbers, make a list with unique values."
   ]
  },
  {
   "cell_type": "code",
   "execution_count": 35,
   "id": "47564464-87e5-4473-aae2-4e57f7499336",
   "metadata": {},
   "outputs": [
    {
     "name": "stdout",
     "output_type": "stream",
     "text": [
      "{10, 20, 50, 30}\n"
     ]
    }
   ],
   "source": [
    "lst = [10 , 20 , 10 , 30 , 30 , 50 , 30 , 10 , 20 , 10 , 10 ]\n",
    "\n",
    "unique_value= set(lst)\n",
    "print(unique_value)"
   ]
  },
  {
   "cell_type": "markdown",
   "id": "7655f4e6-4ead-410e-a1c1-5be7260106fe",
   "metadata": {},
   "source": [
    "\n",
    "2. Given a string , print the frequency of the words"
   ]
  },
  {
   "cell_type": "code",
   "execution_count": 37,
   "id": "88443824-a2bf-4b5c-b59c-6087131ddf84",
   "metadata": {},
   "outputs": [
    {
     "name": "stdout",
     "output_type": "stream",
     "text": [
      "<class 'list'>\n",
      "count of data is 9\n",
      "count of science is 1\n",
      "count of machine is 3\n",
      "count of learning is 2\n",
      "count of analysis is 1\n",
      "count of statistics is 1\n",
      "count of models is 2\n",
      "count of training is 1\n",
      "count of validation is 2\n",
      "count of features is 2\n",
      "count of labels is 1\n",
      "count of preprocessing is 1\n",
      "count of augmentation is 1\n",
      "count of optimization is 1\n",
      "count of gradient is 1\n",
      "count of descent is 1\n",
      "count of neural is 1\n",
      "count of networks is 1\n",
      "count of tensors is 1\n",
      "count of matrices is 1\n",
      "count of visualization is 1\n",
      "count of exploration is 1\n",
      "count of pandas is 1\n",
      "count of numpy is 1\n",
      "count of matplotlib is 1\n",
      "count of seaborn is 1\n",
      "count of scikitlearn is 1\n",
      "count of tensorflow is 1\n",
      "count of pytorch is 1\n",
      "count of deployment is 1\n",
      "count of inference is 1\n",
      "count of production is 1\n",
      "count of monitoring is 1\n",
      "count of reproducibility is 1\n",
      "count of experiments is 1\n",
      "count of results is 1\n",
      "count of metrics is 1\n",
      "count of accuracy is 1\n",
      "count of precision is 1\n",
      "count of recall is 1\n",
      "count of f1 is 1\n",
      "count of cross is 1\n"
     ]
    }
   ],
   "source": [
    "string = \"\"\"data science machine learning data analysis machine \n",
    "learning statistics data models data training data validation features\n",
    "features labels preprocessing data augmentation models data optimization \n",
    "gradient descent neural networks data tensors matrices visualization \n",
    "exploration pandas numpy matplotlib seaborn scikitlearn tensorflow pytorch \n",
    "deployment inference production monitoring reproducibility experiments results \n",
    "metrics accuracy precision recall f1 cross validation data machine\n",
    "\"\"\"\n",
    "words = string.split()\n",
    "#print(type(words)) #List\n",
    "count = {} \n",
    "\n",
    "for word in words:\n",
    "    count[word]= count.get(word,0) +1  \n",
    "\n",
    "for k,v in count.items():\n",
    "    print(f\"count of {k} is {v}\")"
   ]
  },
  {
   "cell_type": "code",
   "execution_count": null,
   "id": "713495e8-3111-4ff6-934e-67bb215d8b39",
   "metadata": {},
   "outputs": [],
   "source": []
  }
 ],
 "metadata": {
  "kernelspec": {
   "display_name": "Python 3 (ipykernel)",
   "language": "python",
   "name": "python3"
  },
  "language_info": {
   "codemirror_mode": {
    "name": "ipython",
    "version": 3
   },
   "file_extension": ".py",
   "mimetype": "text/x-python",
   "name": "python",
   "nbconvert_exporter": "python",
   "pygments_lexer": "ipython3",
   "version": "3.13.5"
  }
 },
 "nbformat": 4,
 "nbformat_minor": 5
}
