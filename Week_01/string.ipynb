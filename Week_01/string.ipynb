{
 "cells": [
  {
   "cell_type": "code",
   "execution_count": 2,
   "id": "3101eb15-d8fb-498f-8c16-a2e1eec880f2",
   "metadata": {},
   "outputs": [
    {
     "name": "stdout",
     "output_type": "stream",
     "text": [
      "What is your name?\n",
      "<class 'str'>\n"
     ]
    }
   ],
   "source": [
    "prompt= \"What is your name?\" \n",
    "print(prompt)\n",
    "print(type(prompt))"
   ]
  },
  {
   "cell_type": "code",
   "execution_count": 13,
   "id": "3a9be7a3-9c10-41d9-9f6c-04fff3b983e8",
   "metadata": {},
   "outputs": [
    {
     "name": "stdout",
     "output_type": "stream",
     "text": [
      "Tell me about yourself.\n",
      "What issues have you been facing while learning to code?\n",
      "How are you tackling them ?\n",
      "\n"
     ]
    }
   ],
   "source": [
    "message = \"\"\"Tell me about yourself.\n",
    "What issues have you been facing while learning to code?\n",
    "How are you tackling them ?\n",
    "\"\"\"\n",
    "\n",
    "print(message)\n"
   ]
  },
  {
   "cell_type": "markdown",
   "id": "e6f7f195-2f2b-4984-9dc2-bc5a8de8481c",
   "metadata": {},
   "source": [
    "Indexing and Slicing"
   ]
  },
  {
   "cell_type": "code",
   "execution_count": 8,
   "id": "b4f6f9a4-ecf4-4db4-9a7d-28d127261f3c",
   "metadata": {},
   "outputs": [
    {
     "name": "stdout",
     "output_type": "stream",
     "text": [
      "H\n",
      "o\n"
     ]
    }
   ],
   "source": [
    "string=\"Hello World\"\n",
    "print(string[0])\n",
    "print(string[7])\n"
   ]
  },
  {
   "cell_type": "code",
   "execution_count": 11,
   "id": "c041640d-70e4-458c-bd40-60d4d111367a",
   "metadata": {},
   "outputs": [
    {
     "name": "stdout",
     "output_type": "stream",
     "text": [
      "Tell me about yourself.\n",
      "\n"
     ]
    }
   ],
   "source": [
    "#string[start : end : step ]\n",
    "first_msg= message[0 : 24 ]\n",
    "\n",
    "print(first_msg)"
   ]
  },
  {
   "cell_type": "markdown",
   "id": "2944493e-df3a-4b09-ba13-a617a35a58cb",
   "metadata": {},
   "source": [
    "print(first_msg[-1])\n",
    "print(first_msg[-2])\n",
    "print(first_msg[-3])\n",
    "print(first_msg[-4])"
   ]
  },
  {
   "cell_type": "code",
   "execution_count": 22,
   "id": "3ebbb0fe-a97a-4558-a5c9-611b0acbb5c8",
   "metadata": {},
   "outputs": [
    {
     "name": "stdout",
     "output_type": "stream",
     "text": [
      "52\n",
      "True\n",
      "Welcome to Phitron AI/ML Course , Phitron AI/ML , Hello AI/ML\n"
     ]
    }
   ],
   "source": [
    "string  = \"Welcome to Phitron ML Course , Phitron ML , Hello ML\" \n",
    "\n",
    "processed_string = string.lower()\n",
    "\n",
    "\n",
    "# length \n",
    "print(len(string))\n",
    "\n",
    "# word ase kina -> bool\n",
    "print(\"phitron\" in processed_string)\n",
    "\n",
    "# shurur kon index theke substring ta shuru hoise \n",
    "shuru_index = processed_string.find(\"phitron\")\n",
    "\n",
    "# shesher dike kon index theke substring ta shuru hoise \n",
    "shesh_index = processed_string.rfind(\"phitron\")\n",
    "\n",
    "## Substring koibar ase \n",
    "count = processed_string.count(\"phitron\")\n",
    "\n",
    "## replace a substring \n",
    "processed_string = string.replace(\"ML\", \"AI/ML\")\n",
    "\n",
    "print(processed_string)"
   ]
  },
  {
   "cell_type": "markdown",
   "id": "a4bcf9ce-e388-4b53-9036-078a1463d241",
   "metadata": {},
   "source": [
    "Splitting , Joining , Formatted String"
   ]
  },
  {
   "cell_type": "markdown",
   "id": "224fd729-d7e2-4baf-8a76-0687f343cb1f",
   "metadata": {},
   "source": [
    "prompt = \"what is Phitron ?\"\n",
    "\n",
    "tokens = prompt.split()\n",
    "print(tokens)\n",
    "\n",
    "print(type(tokens))\n",
    "\n",
    "\n",
    "sentence = \"-\".join(tokens)\n",
    "print(sentence)\n",
    "\n",
    "print(type(sentence))"
   ]
  },
  {
   "cell_type": "markdown",
   "id": "da61aa1c-000a-4726-9502-f0e2e872d63f",
   "metadata": {},
   "source": [
    "### Formatted string"
   ]
  },
  {
   "cell_type": "code",
   "execution_count": 39,
   "id": "f89ec5d6-f702-4f08-9f1c-c2db1362a74b",
   "metadata": {},
   "outputs": [
    {
     "name": "stdout",
     "output_type": "stream",
     "text": [
      "Her name is Mukti. She is 22 years old. She is 5.113467 feet tall.\n",
      "\n",
      "Her name is MUKTI. She is 22 years old. She is 5.11 feet.\n",
      "\n",
      "<class 'str'>\n",
      "The model accuracy is  88%\n",
      "The model accuracy is  87.95%\n",
      "The model accuracy is 10.8795456\n"
     ]
    }
   ],
   "source": [
    "name=\"Mukti\"\n",
    "age=22\n",
    "height=5.113467\n",
    "\n",
    "print(f\"Her name is {name}. She is {age} years old. She is {height} feet tall.\\n\")\n",
    "\n",
    "info = f\"Her name is {name.upper()}. She is {age} years old. She is {height:.3} feet.\\n\"\n",
    "print(info)\n",
    "print(type(info))\n",
    "\n",
    "\n",
    "model_accuracy=0.8795456\n",
    "print(f\"The model accuracy is {model_accuracy: .0%}\")\n",
    "print(f\"The model accuracy is {model_accuracy: .2%}\")\n",
    "print(f\"The model accuracy is {model_accuracy+10}\")"
   ]
  },
  {
   "cell_type": "code",
   "execution_count": null,
   "id": "1add63b1-b4c5-4ee1-a894-49b86f0f9484",
   "metadata": {},
   "outputs": [],
   "source": []
  }
 ],
 "metadata": {
  "kernelspec": {
   "display_name": "Python 3 (ipykernel)",
   "language": "python",
   "name": "python3"
  },
  "language_info": {
   "codemirror_mode": {
    "name": "ipython",
    "version": 3
   },
   "file_extension": ".py",
   "mimetype": "text/x-python",
   "name": "python",
   "nbconvert_exporter": "python",
   "pygments_lexer": "ipython3",
   "version": "3.13.5"
  }
 },
 "nbformat": 4,
 "nbformat_minor": 5
}
