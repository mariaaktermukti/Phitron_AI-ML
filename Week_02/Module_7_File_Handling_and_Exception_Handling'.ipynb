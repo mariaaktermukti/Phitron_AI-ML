{
  "nbformat": 4,
  "nbformat_minor": 0,
  "metadata": {
    "colab": {
      "provenance": []
    },
    "kernelspec": {
      "name": "python3",
      "display_name": "Python 3"
    },
    "language_info": {
      "name": "python"
    }
  },
  "cells": [
    {
      "cell_type": "code",
      "execution_count": 4,
      "metadata": {
        "colab": {
          "base_uri": "https://localhost:8080/"
        },
        "id": "pasSsYM30Rfa",
        "outputId": "90a36b3f-a9e3-414a-c54f-d5545114d364"
      },
      "outputs": [
        {
          "output_type": "stream",
          "name": "stdout",
          "text": [
            "\n",
            "<class 'str'>\n",
            "False\n"
          ]
        }
      ],
      "source": [
        "file=open(\"/content/sample_data/sample.txt\",\"r\")\n",
        "\n",
        "content=file.read()\n",
        "print(content)\n",
        "print(type(content))\n",
        "print(file.closed)"
      ]
    },
    {
      "cell_type": "code",
      "source": [
        "file=open(\"/content/sample_data/sample.txt\",\"r\")\n",
        "\n",
        "content=file.readlines()\n",
        "content=list(map(str.strip,content))\n",
        "filter_content=list(filter(lambda x : len(x)>=1, content))\n",
        "print(filter_content)"
      ],
      "metadata": {
        "colab": {
          "base_uri": "https://localhost:8080/"
        },
        "id": "Oyrc0OiQ1elD",
        "outputId": "b79a187f-b80f-4f50-ec90-eb7270f50b5a"
      },
      "execution_count": 5,
      "outputs": [
        {
          "output_type": "stream",
          "name": "stdout",
          "text": [
            "[]\n"
          ]
        }
      ]
    },
    {
      "cell_type": "code",
      "source": [
        "with open(\"./sample_data/sample.txt\",\"r\") as file:\n",
        "  for line in file:\n",
        "    print(line,end=\"\")"
      ],
      "metadata": {
        "id": "qZbEemAMH8_5"
      },
      "execution_count": 6,
      "outputs": []
    },
    {
      "cell_type": "markdown",
      "source": [
        "##File Write"
      ],
      "metadata": {
        "id": "th2dTcJZJIqr"
      }
    },
    {
      "cell_type": "code",
      "source": [
        "#creating a new file and write there\n",
        "with open(\"./sample_data/test.txt\",\"w\") as file:\n",
        "  file.write(\"Hello test file.\\n\")\n",
        "  file.write(\"How is learning going on?\\n\")"
      ],
      "metadata": {
        "id": "-Ts4wDVeJKy5"
      },
      "execution_count": 9,
      "outputs": []
    },
    {
      "cell_type": "code",
      "source": [
        "#writing on a existing file\n",
        "## It overwrites the file\n",
        "with open(\"./sample_data/test.txt\",\"w\") as file:\n",
        "  file.write(\"Second attempt.\\n\")\n",
        "  file.write(\"Learning is going fast.\\n\")"
      ],
      "metadata": {
        "id": "0pNUouHXJy0E"
      },
      "execution_count": 12,
      "outputs": []
    },
    {
      "cell_type": "markdown",
      "source": [
        "## No overwriting, just append the text later"
      ],
      "metadata": {
        "id": "txAnzpElKeLC"
      }
    },
    {
      "cell_type": "code",
      "source": [
        "with open(\"./sample_data/test.txt\",\"a\") as file:\n",
        "  file.write(\"The learning of AI/ML is fun.\\n\")\n",
        "  file.write(\"I am enjoying this.\")"
      ],
      "metadata": {
        "id": "6N4YV9k2Kk4L"
      },
      "execution_count": 14,
      "outputs": []
    },
    {
      "cell_type": "code",
      "source": [
        "strings=['hello','hi','good','bye']\n",
        "with open(\"./sample_data/test2.txt\",\"a\") as file:\n",
        "  file.writelines(strings)"
      ],
      "metadata": {
        "id": "p6ciHRc3zz5H"
      },
      "execution_count": 16,
      "outputs": []
    },
    {
      "cell_type": "code",
      "source": [
        "with open(\"./sample_data/sample.txt\",\"r\") as file:\n",
        "  print(file.tell()) # current cursor\n",
        "  print(file.read())\n",
        "\n",
        "  #last index theke pora start hoiche\n",
        "  print(file.tell())\n",
        "  print(file.read())"
      ],
      "metadata": {
        "colab": {
          "base_uri": "https://localhost:8080/"
        },
        "id": "zBPeNs_f2vx5",
        "outputId": "48cf49c8-d8ca-49c2-96fe-d30f67e8dcb8"
      },
      "execution_count": 17,
      "outputs": [
        {
          "output_type": "stream",
          "name": "stdout",
          "text": [
            "0\n",
            "\n",
            "0\n",
            "\n"
          ]
        }
      ]
    },
    {
      "cell_type": "code",
      "source": [
        "with open(\"./sample_data/sample.txt\",\"r\") as file:\n",
        "  print(file.tell()) # current cursor\n",
        "  print(file.read(5))\n",
        "  print(file.tell())\n",
        "\n",
        "  print(file.read())\n"
      ],
      "metadata": {
        "colab": {
          "base_uri": "https://localhost:8080/"
        },
        "id": "Z-mZp51n4PXC",
        "outputId": "746078c0-c1db-4e79-d5f7-9782bf507b25"
      },
      "execution_count": 18,
      "outputs": [
        {
          "output_type": "stream",
          "name": "stdout",
          "text": [
            "0\n",
            "\n",
            "0\n",
            "\n"
          ]
        }
      ]
    },
    {
      "cell_type": "code",
      "source": [
        "with open(\"./sample_data/sample.txt\",\"r\") as file:\n",
        "  print(file.tell())\n",
        "\n",
        "  file.seek(5)\n",
        "  print(file.tell())\n",
        "\n",
        "  file.seek(0)\n",
        "  print(file.read(5))"
      ],
      "metadata": {
        "colab": {
          "base_uri": "https://localhost:8080/"
        },
        "id": "OTtcHY-R49qd",
        "outputId": "5d58757e-2753-4223-d44d-c0d2651a26d7"
      },
      "execution_count": 19,
      "outputs": [
        {
          "output_type": "stream",
          "name": "stdout",
          "text": [
            "0\n",
            "5\n",
            "\n"
          ]
        }
      ]
    },
    {
      "cell_type": "markdown",
      "source": [
        "Practice 1 :\n",
        "Get the text from sample.txt , and count the following\n",
        "\n",
        "Number of lines\n",
        "\n",
        "Number of words\n",
        "\n",
        "Number of characters\n",
        "\n",
        "and save it to the counter_of_string.txt file"
      ],
      "metadata": {
        "id": "Q9afCjV26ZmV"
      }
    },
    {
      "cell_type": "code",
      "source": [
        "from functools import reduce\n",
        "\n",
        "with open(\"./sample_data/sample.txt\",\"r\") as file:\n",
        "  string_list = file.readlines()\n",
        "\n",
        "  # total line koita\n",
        "  total_lines = len(string_list)\n",
        "\n",
        "  # word ber korbo\n",
        "  number_of_words = list(map(lambda x : len(x.split()),string_list))\n",
        "  #total words\n",
        "  total_number_of_words = reduce(lambda x,y : x+y ,number_of_words)\n",
        "\n",
        "  #cleaning process\n",
        "\n",
        "  # 1. new line delete\n",
        "  string_list = list(map(str.strip,string_list))\n",
        "\n",
        "  #2. space delete\n",
        "\n",
        "  string_list = list(map(lambda x : x.replace(\" \",\"\"),string_list))\n",
        "\n",
        "  # koita character\n",
        "\n",
        "  number_of_character = list(map(lambda x : len(x),string_list))\n",
        "\n",
        "  # total character\n",
        "  total_number_of_characters = reduce(lambda x,y : x+y ,number_of_character)\n",
        "\n",
        "\n",
        "\n",
        "with open(\"./sample_data/counter_of_string.txt\",\"w\") as file:\n",
        "  file.write(f\"total line: {total_lines}\\ntotal number of words:{total_number_of_words}\\ntotal number of char: {total_number_of_characters}\")\n",
        "\n",
        "\n",
        "\n",
        "\n",
        ""
      ],
      "metadata": {
        "id": "fmUYL1B66ihM",
        "colab": {
          "base_uri": "https://localhost:8080/",
          "height": 280
        },
        "outputId": "46892274-0095-466a-b59f-f73ea05f28e6",
        "collapsed": true
      },
      "execution_count": 22,
      "outputs": [
        {
          "output_type": "error",
          "ename": "TypeError",
          "evalue": "reduce() of empty iterable with no initial value",
          "traceback": [
            "\u001b[0;31m---------------------------------------------------------------------------\u001b[0m",
            "\u001b[0;31mTypeError\u001b[0m                                 Traceback (most recent call last)",
            "\u001b[0;32m/tmp/ipython-input-2161309804.py\u001b[0m in \u001b[0;36m<cell line: 0>\u001b[0;34m()\u001b[0m\n\u001b[1;32m     10\u001b[0m   \u001b[0mnumber_of_words\u001b[0m \u001b[0;34m=\u001b[0m \u001b[0mlist\u001b[0m\u001b[0;34m(\u001b[0m\u001b[0mmap\u001b[0m\u001b[0;34m(\u001b[0m\u001b[0;32mlambda\u001b[0m \u001b[0mx\u001b[0m \u001b[0;34m:\u001b[0m \u001b[0mlen\u001b[0m\u001b[0;34m(\u001b[0m\u001b[0mx\u001b[0m\u001b[0;34m.\u001b[0m\u001b[0msplit\u001b[0m\u001b[0;34m(\u001b[0m\u001b[0;34m)\u001b[0m\u001b[0;34m)\u001b[0m\u001b[0;34m,\u001b[0m\u001b[0mstring_list\u001b[0m\u001b[0;34m)\u001b[0m\u001b[0;34m)\u001b[0m\u001b[0;34m\u001b[0m\u001b[0;34m\u001b[0m\u001b[0m\n\u001b[1;32m     11\u001b[0m   \u001b[0;31m#total words\u001b[0m\u001b[0;34m\u001b[0m\u001b[0;34m\u001b[0m\u001b[0m\n\u001b[0;32m---> 12\u001b[0;31m   \u001b[0mtotal_number_of_words\u001b[0m \u001b[0;34m=\u001b[0m \u001b[0mreduce\u001b[0m\u001b[0;34m(\u001b[0m\u001b[0;32mlambda\u001b[0m \u001b[0mx\u001b[0m\u001b[0;34m,\u001b[0m\u001b[0my\u001b[0m \u001b[0;34m:\u001b[0m \u001b[0mx\u001b[0m\u001b[0;34m+\u001b[0m\u001b[0my\u001b[0m \u001b[0;34m,\u001b[0m\u001b[0mnumber_of_words\u001b[0m\u001b[0;34m)\u001b[0m\u001b[0;34m\u001b[0m\u001b[0;34m\u001b[0m\u001b[0m\n\u001b[0m\u001b[1;32m     13\u001b[0m \u001b[0;34m\u001b[0m\u001b[0m\n\u001b[1;32m     14\u001b[0m   \u001b[0;31m#cleaning process\u001b[0m\u001b[0;34m\u001b[0m\u001b[0;34m\u001b[0m\u001b[0m\n",
            "\u001b[0;31mTypeError\u001b[0m: reduce() of empty iterable with no initial value"
          ]
        }
      ]
    },
    {
      "cell_type": "code",
      "source": [
        "with open(\"./sample_data/write_read.txt\",\"w+\") as file:\n",
        "  file.write(\"Hello world\")\n",
        "\n",
        "  print(file.tell())\n",
        "\n",
        "  file.seek(0)\n",
        "  print(file.tell())\n",
        "\n",
        "  print(file.read())\n",
        "\n",
        "  file.truncate(5)\n",
        "\n",
        "  file.seek(0)\n",
        "\n",
        "  print(file.read())"
      ],
      "metadata": {
        "id": "waDoDjuxj4bN",
        "colab": {
          "base_uri": "https://localhost:8080/"
        },
        "outputId": "55f3193f-6a77-4c4d-a616-58f9c56a860b"
      },
      "execution_count": 23,
      "outputs": [
        {
          "output_type": "stream",
          "name": "stdout",
          "text": [
            "11\n",
            "0\n",
            "Hello world\n",
            "Hello\n"
          ]
        }
      ]
    },
    {
      "cell_type": "markdown",
      "source": [
        "##Exception\n"
      ],
      "metadata": {
        "id": "z2ldokQiqH3Q"
      }
    },
    {
      "cell_type": "code",
      "source": [
        "\n",
        "n = int(input())\n",
        "\n",
        "try:\n",
        "  a = 10/0\n",
        "except ZeroDivisionError:\n",
        "  print(\"you cant divide a number by 0\")\n",
        "\n",
        "print(\"hello world\")\n",
        ""
      ],
      "metadata": {
        "colab": {
          "base_uri": "https://localhost:8080/"
        },
        "id": "E0TAtLLeqKFt",
        "outputId": "b9070287-5c4c-4902-b240-dc9f96f2a033"
      },
      "execution_count": 24,
      "outputs": [
        {
          "output_type": "stream",
          "name": "stdout",
          "text": [
            "34\n",
            "you cant divide a number by 0\n",
            "hello world\n"
          ]
        }
      ]
    },
    {
      "cell_type": "code",
      "source": [
        "try:\n",
        "  x = y\n",
        "except ZeroDivisionError:\n",
        "  print(\"you cant divide a number by 0\")\n",
        "except Exception as e:\n",
        "  print(e)\n",
        "\n",
        "\n",
        "print(\"hello world\")\n",
        ""
      ],
      "metadata": {
        "colab": {
          "base_uri": "https://localhost:8080/"
        },
        "id": "Nbz3K0Mes9Vn",
        "outputId": "5a5609a9-98de-4c44-d09c-26fe8cadbdb0"
      },
      "execution_count": 25,
      "outputs": [
        {
          "output_type": "stream",
          "name": "stdout",
          "text": [
            "name 'y' is not defined\n",
            "hello world\n"
          ]
        }
      ]
    },
    {
      "cell_type": "code",
      "source": [
        "# model train\n",
        "\n",
        "try:\n",
        "  file = open(\"./sample_data/data1.txt\",\"r\")\n",
        "except Exception as e:\n",
        "  print(e)\n",
        "else:\n",
        "  # model train\n",
        "  print(file.read())\n",
        "finally:\n",
        "  print(\"Gpu is stopped\")"
      ],
      "metadata": {
        "colab": {
          "base_uri": "https://localhost:8080/"
        },
        "id": "2NgkbIeNs9DM",
        "outputId": "313b0046-7d05-4301-f9cb-077d175c4948"
      },
      "execution_count": 26,
      "outputs": [
        {
          "output_type": "stream",
          "name": "stdout",
          "text": [
            "[Errno 2] No such file or directory: './sample_data/data1.txt'\n",
            "Gpu is stopped\n"
          ]
        }
      ]
    }
  ]
}